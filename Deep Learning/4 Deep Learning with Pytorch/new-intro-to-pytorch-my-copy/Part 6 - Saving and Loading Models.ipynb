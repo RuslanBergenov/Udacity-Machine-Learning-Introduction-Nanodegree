{
 "cells": [
  {
   "cell_type": "markdown",
   "metadata": {},
   "source": [
    "# Saving and Loading Models\n",
    "\n",
    "In this notebook, I'll show you how to save and load models with PyTorch. This is important because you'll often want to load previously trained models to use in making predictions or to continue training on new data."
   ]
  },
  {
   "cell_type": "code",
   "execution_count": 1,
   "metadata": {},
   "outputs": [],
   "source": [
    "%matplotlib inline\n",
    "%config InlineBackend.figure_format = 'retina'\n",
    "\n",
    "import matplotlib.pyplot as plt\n",
    "\n",
    "import torch\n",
    "from torch import nn\n",
    "from torch import optim\n",
    "import torch.nn.functional as F\n",
    "from torchvision import datasets, transforms\n",
    "\n",
    "import helper\n",
    "import fc_model"
   ]
  },
  {
   "cell_type": "code",
   "execution_count": 2,
   "metadata": {
    "scrolled": true
   },
   "outputs": [
    {
     "name": "stdout",
     "output_type": "stream",
     "text": [
      "Downloading http://fashion-mnist.s3-website.eu-central-1.amazonaws.com/train-images-idx3-ubyte.gz to F_MNIST_data/FashionMNIST\\raw\\train-images-idx3-ubyte.gz\n"
     ]
    },
    {
     "name": "stderr",
     "output_type": "stream",
     "text": [
      " 98%|███████████████████████████████████████████████████████████████▉ | 26009600/26421880 [00:19<00:00, 3173024.88it/s]"
     ]
    },
    {
     "name": "stdout",
     "output_type": "stream",
     "text": [
      "Extracting F_MNIST_data/FashionMNIST\\raw\\train-images-idx3-ubyte.gz to F_MNIST_data/FashionMNIST\\raw\n",
      "Downloading http://fashion-mnist.s3-website.eu-central-1.amazonaws.com/train-labels-idx1-ubyte.gz to F_MNIST_data/FashionMNIST\\raw\\train-labels-idx1-ubyte.gz\n"
     ]
    },
    {
     "name": "stderr",
     "output_type": "stream",
     "text": [
      "\n",
      "0it [00:00, ?it/s]\n",
      "  0%|                                                                                        | 0/29515 [00:00<?, ?it/s]\n",
      " 56%|████████████████████████████████████████▌                                | 16384/29515 [00:00<00:00, 95578.32it/s]\n",
      "32768it [00:00, 45300.34it/s]                                                                                          "
     ]
    },
    {
     "name": "stdout",
     "output_type": "stream",
     "text": [
      "Extracting F_MNIST_data/FashionMNIST\\raw\\train-labels-idx1-ubyte.gz to F_MNIST_data/FashionMNIST\\raw\n",
      "Downloading http://fashion-mnist.s3-website.eu-central-1.amazonaws.com/t10k-images-idx3-ubyte.gz to F_MNIST_data/FashionMNIST\\raw\\t10k-images-idx3-ubyte.gz\n"
     ]
    },
    {
     "name": "stderr",
     "output_type": "stream",
     "text": [
      "\n",
      "0it [00:00, ?it/s]\n",
      "  0%|                                                                                      | 0/4422102 [00:00<?, ?it/s]\n",
      "  0%|▎                                                                      | 16384/4422102 [00:00<00:50, 86683.07it/s]\n",
      "  1%|▋                                                                      | 40960/4422102 [00:00<00:45, 96877.08it/s]\n",
      "  2%|█▌                                                                    | 98304/4422102 [00:00<00:35, 121323.41it/s]\n",
      "  4%|██▌                                                                  | 163840/4422102 [00:01<00:28, 150363.31it/s]\n",
      "  5%|███▌                                                                 | 229376/4422102 [00:01<00:23, 180986.88it/s]\n",
      "  7%|████▌                                                                | 294912/4422102 [00:01<00:20, 205831.87it/s]\n",
      "  8%|█████▍                                                               | 352256/4422102 [00:01<00:17, 237496.10it/s]\n",
      " 15%|██████████▏                                                          | 655360/4422102 [00:01<00:11, 326482.81it/s]\n",
      " 17%|███████████▉                                                         | 761856/4422102 [00:01<00:09, 403047.97it/s]\n",
      " 19%|█████████████▍                                                       | 860160/4422102 [00:02<00:07, 448463.07it/s]\n",
      " 23%|███████████████▊                                                    | 1032192/4422102 [00:02<00:06, 551021.10it/s]\n",
      " 27%|██████████████████▋                                                 | 1212416/4422102 [00:02<00:04, 694587.10it/s]\n",
      " 30%|████████████████████▌                                               | 1335296/4422102 [00:02<00:04, 696179.34it/s]\n",
      " 33%|██████████████████████▏                                             | 1441792/4422102 [00:02<00:04, 719820.72it/s]\n",
      " 37%|█████████████████████████▏                                          | 1638400/4422102 [00:02<00:03, 878001.17it/s]\n",
      " 40%|███████████████████████████                                         | 1761280/4422102 [00:02<00:02, 887030.90it/s]\n",
      " 42%|████████████████████████████▊                                       | 1875968/4422102 [00:03<00:02, 849481.11it/s]\n",
      " 47%|███████████████████████████████▉                                    | 2080768/4422102 [00:03<00:02, 970196.85it/s]\n",
      " 50%|█████████████████████████████████▋                                 | 2220032/4422102 [00:03<00:02, 1051246.77it/s]\n",
      " 53%|████████████████████████████████████                                | 2342912/4422102 [00:03<00:02, 974083.76it/s]\n",
      " 57%|██████████████████████████████████████▍                            | 2539520/4422102 [00:03<00:01, 1105115.14it/s]\n",
      " 60%|████████████████████████████████████████▍                          | 2670592/4422102 [00:03<00:01, 1133957.36it/s]\n",
      " 63%|██████████████████████████████████████████▍                        | 2801664/4422102 [00:03<00:01, 1062512.80it/s]\n",
      " 68%|█████████████████████████████████████████████▋                     | 3014656/4422102 [00:04<00:01, 1149218.23it/s]\n",
      " 72%|███████████████████████████████████████████████▉                   | 3162112/4422102 [00:04<00:01, 1216244.47it/s]\n",
      " 74%|█████████████████████████████████████████████████▉                 | 3293184/4422102 [00:04<00:01, 1119438.16it/s]\n",
      " 79%|████████████████████████████████████████████████████▉              | 3497984/4422102 [00:04<00:00, 1241786.66it/s]\n",
      " 82%|███████████████████████████████████████████████████████            | 3637248/4422102 [00:04<00:00, 1246497.10it/s]\n",
      " 85%|█████████████████████████████████████████████████████████          | 3768320/4422102 [00:04<00:00, 1162944.90it/s]\n",
      " 90%|████████████████████████████████████████████████████████████▍      | 3989504/4422102 [00:04<00:00, 1289197.75it/s]\n",
      " 93%|██████████████████████████████████████████████████████████████▌    | 4128768/4422102 [00:04<00:00, 1218788.73it/s]\n",
      " 96%|████████████████████████████████████████████████████████████████▌  | 4259840/4422102 [00:04<00:00, 1210909.35it/s]\n",
      "4423680it [00:05, 1288962.16it/s]                                                                                      "
     ]
    },
    {
     "name": "stdout",
     "output_type": "stream",
     "text": [
      "Extracting F_MNIST_data/FashionMNIST\\raw\\t10k-images-idx3-ubyte.gz to F_MNIST_data/FashionMNIST\\raw\n",
      "Downloading http://fashion-mnist.s3-website.eu-central-1.amazonaws.com/t10k-labels-idx1-ubyte.gz to F_MNIST_data/FashionMNIST\\raw\\t10k-labels-idx1-ubyte.gz\n"
     ]
    },
    {
     "name": "stderr",
     "output_type": "stream",
     "text": [
      "\n",
      "0it [00:00, ?it/s]\n",
      "  0%|                                                                                         | 0/5148 [00:00<?, ?it/s]\n",
      "8192it [00:00, 14301.59it/s]                                                                                           "
     ]
    },
    {
     "name": "stdout",
     "output_type": "stream",
     "text": [
      "Extracting F_MNIST_data/FashionMNIST\\raw\\t10k-labels-idx1-ubyte.gz to F_MNIST_data/FashionMNIST\\raw\n",
      "Processing...\n",
      "Done!\n"
     ]
    }
   ],
   "source": [
    "# Define a transform to normalize the data\n",
    "transform = transforms.Compose([transforms.ToTensor(),\n",
    "                                transforms.Normalize((0.5,), (0.5,))])\n",
    "# Download and load the training data\n",
    "trainset = datasets.FashionMNIST('F_MNIST_data/', download=True, train=True, transform=transform)\n",
    "trainloader = torch.utils.data.DataLoader(trainset, batch_size=64, shuffle=True)\n",
    "\n",
    "# Download and load the test data\n",
    "testset = datasets.FashionMNIST('F_MNIST_data/', download=True, train=False, transform=transform)\n",
    "testloader = torch.utils.data.DataLoader(testset, batch_size=64, shuffle=True)"
   ]
  },
  {
   "cell_type": "markdown",
   "metadata": {},
   "source": [
    "Here we can see one of the images."
   ]
  },
  {
   "cell_type": "code",
   "execution_count": 3,
   "metadata": {},
   "outputs": [
    {
     "data": {
      "image/png": "[encoded data removed]",
      "text/plain": [
       "<Figure size 432x288 with 1 Axes>"
      ]
     },
     "metadata": {
      "image/png": {
       "height": 231,
       "width": 231
      },
      "needs_background": "light"
     },
     "output_type": "display_data"
    }
   ],
   "source": [
    "image, label = next(iter(trainloader))\n",
    "helper.imshow(image[0,:]);"
   ]
  },
  {
   "cell_type": "markdown",
   "metadata": {},
   "source": [
    "# Train a network\n",
    "\n",
    "To make things more concise here, I moved the model architecture and training code from the last part to a file called `fc_model`. Importing this, we can easily create a fully-connected network with `fc_model.Network`, and train the network using `fc_model.train`. I'll use this model (once it's trained) to demonstrate how we can save and load models."
   ]
  },
  {
   "cell_type": "code",
   "execution_count": 4,
   "metadata": {},
   "outputs": [],
   "source": [
    "# Create the network, define the criterion and optimizer\n",
    "\n",
    "model = fc_model.Network(784, 10, [512, 256, 128])\n",
    "criterion = nn.NLLLoss()\n",
    "optimizer = optim.Adam(model.parameters(), lr=0.001)"
   ]
  },
  {
   "cell_type": "code",
   "execution_count": 5,
   "metadata": {},
   "outputs": [
    {
     "name": "stdout",
     "output_type": "stream",
     "text": [
      "Epoch: 1/2..  Training Loss: 1.734..  Test Loss: 0.977..  Test Accuracy: 0.628\n",
      "Epoch: 1/2..  Training Loss: 1.041..  Test Loss: 0.762..  Test Accuracy: 0.719\n",
      "Epoch: 1/2..  Training Loss: 0.866..  Test Loss: 0.703..  Test Accuracy: 0.731\n",
      "Epoch: 1/2..  Training Loss: 0.811..  Test Loss: 0.622..  Test Accuracy: 0.765\n",
      "Epoch: 1/2..  Training Loss: 0.740..  Test Loss: 0.647..  Test Accuracy: 0.761\n",
      "Epoch: 1/2..  Training Loss: 0.724..  Test Loss: 0.617..  Test Accuracy: 0.770\n",
      "Epoch: 1/2..  Training Loss: 0.675..  Test Loss: 0.589..  Test Accuracy: 0.782\n",
      "Epoch: 1/2..  Training Loss: 0.688..  Test Loss: 0.578..  Test Accuracy: 0.791\n",
      "Epoch: 1/2..  Training Loss: 0.676..  Test Loss: 0.561..  Test Accuracy: 0.792\n",
      "Epoch: 1/2..  Training Loss: 0.618..  Test Loss: 0.552..  Test Accuracy: 0.797\n",
      "Epoch: 1/2..  Training Loss: 0.645..  Test Loss: 0.549..  Test Accuracy: 0.799\n",
      "Epoch: 1/2..  Training Loss: 0.602..  Test Loss: 0.542..  Test Accuracy: 0.804\n",
      "Epoch: 1/2..  Training Loss: 0.654..  Test Loss: 0.512..  Test Accuracy: 0.815\n",
      "Epoch: 1/2..  Training Loss: 0.612..  Test Loss: 0.536..  Test Accuracy: 0.804\n",
      "Epoch: 1/2..  Training Loss: 0.597..  Test Loss: 0.503..  Test Accuracy: 0.820\n",
      "Epoch: 1/2..  Training Loss: 0.595..  Test Loss: 0.545..  Test Accuracy: 0.804\n",
      "Epoch: 1/2..  Training Loss: 0.585..  Test Loss: 0.497..  Test Accuracy: 0.817\n",
      "Epoch: 1/2..  Training Loss: 0.597..  Test Loss: 0.483..  Test Accuracy: 0.819\n",
      "Epoch: 1/2..  Training Loss: 0.602..  Test Loss: 0.490..  Test Accuracy: 0.821\n",
      "Epoch: 1/2..  Training Loss: 0.540..  Test Loss: 0.489..  Test Accuracy: 0.821\n",
      "Epoch: 1/2..  Training Loss: 0.551..  Test Loss: 0.478..  Test Accuracy: 0.826\n",
      "Epoch: 1/2..  Training Loss: 0.573..  Test Loss: 0.492..  Test Accuracy: 0.822\n",
      "Epoch: 1/2..  Training Loss: 0.581..  Test Loss: 0.487..  Test Accuracy: 0.820\n",
      "Epoch: 2/2..  Training Loss: 0.562..  Test Loss: 0.472..  Test Accuracy: 0.830\n",
      "Epoch: 2/2..  Training Loss: 0.537..  Test Loss: 0.484..  Test Accuracy: 0.828\n",
      "Epoch: 2/2..  Training Loss: 0.529..  Test Loss: 0.482..  Test Accuracy: 0.828\n",
      "Epoch: 2/2..  Training Loss: 0.530..  Test Loss: 0.487..  Test Accuracy: 0.816\n",
      "Epoch: 2/2..  Training Loss: 0.563..  Test Loss: 0.462..  Test Accuracy: 0.829\n",
      "Epoch: 2/2..  Training Loss: 0.543..  Test Loss: 0.477..  Test Accuracy: 0.830\n",
      "Epoch: 2/2..  Training Loss: 0.542..  Test Loss: 0.480..  Test Accuracy: 0.829\n",
      "Epoch: 2/2..  Training Loss: 0.557..  Test Loss: 0.455..  Test Accuracy: 0.832\n",
      "Epoch: 2/2..  Training Loss: 0.534..  Test Loss: 0.459..  Test Accuracy: 0.835\n",
      "Epoch: 2/2..  Training Loss: 0.536..  Test Loss: 0.457..  Test Accuracy: 0.829\n",
      "Epoch: 2/2..  Training Loss: 0.498..  Test Loss: 0.461..  Test Accuracy: 0.832\n",
      "Epoch: 2/2..  Training Loss: 0.543..  Test Loss: 0.454..  Test Accuracy: 0.837\n",
      "Epoch: 2/2..  Training Loss: 0.512..  Test Loss: 0.489..  Test Accuracy: 0.822\n",
      "Epoch: 2/2..  Training Loss: 0.536..  Test Loss: 0.441..  Test Accuracy: 0.837\n",
      "Epoch: 2/2..  Training Loss: 0.513..  Test Loss: 0.462..  Test Accuracy: 0.832\n",
      "Epoch: 2/2..  Training Loss: 0.514..  Test Loss: 0.451..  Test Accuracy: 0.833\n",
      "Epoch: 2/2..  Training Loss: 0.538..  Test Loss: 0.481..  Test Accuracy: 0.821\n",
      "Epoch: 2/2..  Training Loss: 0.518..  Test Loss: 0.479..  Test Accuracy: 0.819\n",
      "Epoch: 2/2..  Training Loss: 0.534..  Test Loss: 0.451..  Test Accuracy: 0.831\n",
      "Epoch: 2/2..  Training Loss: 0.505..  Test Loss: 0.456..  Test Accuracy: 0.832\n",
      "Epoch: 2/2..  Training Loss: 0.543..  Test Loss: 0.445..  Test Accuracy: 0.837\n",
      "Epoch: 2/2..  Training Loss: 0.503..  Test Loss: 0.438..  Test Accuracy: 0.840\n",
      "Epoch: 2/2..  Training Loss: 0.499..  Test Loss: 0.438..  Test Accuracy: 0.842\n"
     ]
    }
   ],
   "source": [
    "fc_model.train(model, trainloader, testloader, criterion, optimizer, epochs=2)"
   ]
  },
  {
   "cell_type": "markdown",
   "metadata": {},
   "source": [
    "## Saving and loading networks\n",
    "\n",
    "As you can imagine, it's impractical to train a network every time you need to use it. Instead, we can save trained networks then load them later to train more or use them for predictions.\n",
    "\n",
    "The parameters for PyTorch networks are stored in a model's `state_dict`. We can see the state dict contains the weight and bias matrices for each of our layers."
   ]
  },
  {
   "cell_type": "code",
   "execution_count": 6,
   "metadata": {},
   "outputs": [
    {
     "name": "stdout",
     "output_type": "stream",
     "text": [
      "Our model: \n",
      "\n",
      " Network(\n",
      "  (hidden_layers): ModuleList(\n",
      "    (0): Linear(in_features=784, out_features=512, bias=True)\n",
      "    (1): Linear(in_features=512, out_features=256, bias=True)\n",
      "    (2): Linear(in_features=256, out_features=128, bias=True)\n",
      "  )\n",
      "  (output): Linear(in_features=128, out_features=10, bias=True)\n",
      "  (dropout): Dropout(p=0.5, inplace=False)\n",
      ") \n",
      "\n",
      "The state dict keys: \n",
      "\n",
      " odict_keys(['hidden_layers.0.weight', 'hidden_layers.0.bias', 'hidden_layers.1.weight', 'hidden_layers.1.bias', 'hidden_layers.2.weight', 'hidden_layers.2.bias', 'output.weight', 'output.bias'])\n"
     ]
    }
   ],
   "source": [
    "print(\"Our model: \\n\\n\", model, '\\n')\n",
    "print(\"The state dict keys: \\n\\n\", model.state_dict().keys())"
   ]
  },
  {
   "cell_type": "markdown",
   "metadata": {},
   "source": [
    "The simplest thing to do is simply save the state dict with `torch.save`. For example, we can save it to a file `'checkpoint.pth'`."
   ]
  },
  {
   "cell_type": "code",
   "execution_count": 7,
   "metadata": {},
   "outputs": [],
   "source": [
    "torch.save(model.state_dict(), 'checkpoint.pth')"
   ]
  },
  {
   "cell_type": "markdown",
   "metadata": {},
   "source": [
    "Then we can load the state dict with `torch.load`."
   ]
  },
  {
   "cell_type": "code",
   "execution_count": 8,
   "metadata": {},
   "outputs": [
    {
     "name": "stdout",
     "output_type": "stream",
     "text": [
      "odict_keys(['hidden_layers.0.weight', 'hidden_layers.0.bias', 'hidden_layers.1.weight', 'hidden_layers.1.bias', 'hidden_layers.2.weight', 'hidden_layers.2.bias', 'output.weight', 'output.bias'])\n"
     ]
    }
   ],
   "source": [
    "state_dict = torch.load('checkpoint.pth')\n",
    "print(state_dict.keys())"
   ]
  },
  {
   "cell_type": "markdown",
   "metadata": {},
   "source": [
    "And to load the state dict in to the network, you do `model.load_state_dict(state_dict)`."
   ]
  },
  {
   "cell_type": "code",
   "execution_count": 9,
   "metadata": {},
   "outputs": [
    {
     "data": {
      "text/plain": [
       "<All keys matched successfully>"
      ]
     },
     "execution_count": 9,
     "metadata": {},
     "output_type": "execute_result"
    }
   ],
   "source": [
    "model.load_state_dict(state_dict)"
   ]
  },
  {
   "cell_type": "markdown",
   "metadata": {},
   "source": [
    "Seems pretty straightforward, but as usual it's a bit more complicated. Loading the state dict works only if the model architecture is exactly the same as the checkpoint architecture. If I create a model with a different architecture, this fails."
   ]
  },
  {
   "cell_type": "code",
   "execution_count": 10,
   "metadata": {},
   "outputs": [
    {
     "ename": "RuntimeError",
     "evalue": "Error(s) in loading state_dict for Network:\n\tsize mismatch for hidden_layers.0.weight: copying a param with shape torch.Size([512, 784]) from checkpoint, the shape in current model is torch.Size([400, 784]).\n\tsize mismatch for hidden_layers.0.bias: copying a param with shape torch.Size([512]) from checkpoint, the shape in current model is torch.Size([400]).\n\tsize mismatch for hidden_layers.1.weight: copying a param with shape torch.Size([256, 512]) from checkpoint, the shape in current model is torch.Size([200, 400]).\n\tsize mismatch for hidden_layers.1.bias: copying a param with shape torch.Size([256]) from checkpoint, the shape in current model is torch.Size([200]).\n\tsize mismatch for hidden_layers.2.weight: copying a param with shape torch.Size([128, 256]) from checkpoint, the shape in current model is torch.Size([100, 200]).\n\tsize mismatch for hidden_layers.2.bias: copying a param with shape torch.Size([128]) from checkpoint, the shape in current model is torch.Size([100]).\n\tsize mismatch for output.weight: copying a param with shape torch.Size([10, 128]) from checkpoint, the shape in current model is torch.Size([10, 100]).",
     "output_type": "error",
     "traceback": [
      "\u001b[1;31m---------------------------------------------------------------------------\u001b[0m",
      "\u001b[1;31mRuntimeError\u001b[0m                              Traceback (most recent call last)",
      "\u001b[1;32m<ipython-input-10-d859c59ebec0>\u001b[0m in \u001b[0;36m<module>\u001b[1;34m\u001b[0m\n\u001b[0;32m      2\u001b[0m \u001b[0mmodel\u001b[0m \u001b[1;33m=\u001b[0m \u001b[0mfc_model\u001b[0m\u001b[1;33m.\u001b[0m\u001b[0mNetwork\u001b[0m\u001b[1;33m(\u001b[0m\u001b[1;36m784\u001b[0m\u001b[1;33m,\u001b[0m \u001b[1;36m10\u001b[0m\u001b[1;33m,\u001b[0m \u001b[1;33m[\u001b[0m\u001b[1;36m400\u001b[0m\u001b[1;33m,\u001b[0m \u001b[1;36m200\u001b[0m\u001b[1;33m,\u001b[0m \u001b[1;36m100\u001b[0m\u001b[1;33m]\u001b[0m\u001b[1;33m)\u001b[0m\u001b[1;33m\u001b[0m\u001b[1;33m\u001b[0m\u001b[0m\n\u001b[0;32m      3\u001b[0m \u001b[1;31m# This will throw an error because the tensor sizes are wrong!\u001b[0m\u001b[1;33m\u001b[0m\u001b[1;33m\u001b[0m\u001b[1;33m\u001b[0m\u001b[0m\n\u001b[1;32m----> 4\u001b[1;33m \u001b[0mmodel\u001b[0m\u001b[1;33m.\u001b[0m\u001b[0mload_state_dict\u001b[0m\u001b[1;33m(\u001b[0m\u001b[0mstate_dict\u001b[0m\u001b[1;33m)\u001b[0m\u001b[1;33m\u001b[0m\u001b[1;33m\u001b[0m\u001b[0m\n\u001b[0m",
      "\u001b[1;32m~\\AppData\\Local\\Continuum\\anaconda3\\lib\\site-packages\\torch\\nn\\modules\\module.py\u001b[0m in \u001b[0;36mload_state_dict\u001b[1;34m(self, state_dict, strict)\u001b[0m\n\u001b[0;32m    843\u001b[0m         \u001b[1;32mif\u001b[0m \u001b[0mlen\u001b[0m\u001b[1;33m(\u001b[0m\u001b[0merror_msgs\u001b[0m\u001b[1;33m)\u001b[0m \u001b[1;33m>\u001b[0m \u001b[1;36m0\u001b[0m\u001b[1;33m:\u001b[0m\u001b[1;33m\u001b[0m\u001b[1;33m\u001b[0m\u001b[0m\n\u001b[0;32m    844\u001b[0m             raise RuntimeError('Error(s) in loading state_dict for {}:\\n\\t{}'.format(\n\u001b[1;32m--> 845\u001b[1;33m                                self.__class__.__name__, \"\\n\\t\".join(error_msgs)))\n\u001b[0m\u001b[0;32m    846\u001b[0m         \u001b[1;32mreturn\u001b[0m \u001b[0m_IncompatibleKeys\u001b[0m\u001b[1;33m(\u001b[0m\u001b[0mmissing_keys\u001b[0m\u001b[1;33m,\u001b[0m \u001b[0munexpected_keys\u001b[0m\u001b[1;33m)\u001b[0m\u001b[1;33m\u001b[0m\u001b[1;33m\u001b[0m\u001b[0m\n\u001b[0;32m    847\u001b[0m \u001b[1;33m\u001b[0m\u001b[0m\n",
      "\u001b[1;31mRuntimeError\u001b[0m: Error(s) in loading state_dict for Network:\n\tsize mismatch for hidden_layers.0.weight: copying a param with shape torch.Size([512, 784]) from checkpoint, the shape in current model is torch.Size([400, 784]).\n\tsize mismatch for hidden_layers.0.bias: copying a param with shape torch.Size([512]) from checkpoint, the shape in current model is torch.Size([400]).\n\tsize mismatch for hidden_layers.1.weight: copying a param with shape torch.Size([256, 512]) from checkpoint, the shape in current model is torch.Size([200, 400]).\n\tsize mismatch for hidden_layers.1.bias: copying a param with shape torch.Size([256]) from checkpoint, the shape in current model is torch.Size([200]).\n\tsize mismatch for hidden_layers.2.weight: copying a param with shape torch.Size([128, 256]) from checkpoint, the shape in current model is torch.Size([100, 200]).\n\tsize mismatch for hidden_layers.2.bias: copying a param with shape torch.Size([128]) from checkpoint, the shape in current model is torch.Size([100]).\n\tsize mismatch for output.weight: copying a param with shape torch.Size([10, 128]) from checkpoint, the shape in current model is torch.Size([10, 100])."
     ]
    }
   ],
   "source": [
    "# Try this\n",
    "model = fc_model.Network(784, 10, [400, 200, 100])\n",
    "# This will throw an error because the tensor sizes are wrong!\n",
    "model.load_state_dict(state_dict)"
   ]
  },
  {
   "cell_type": "markdown",
   "metadata": {},
   "source": [
    "This means we need to rebuild the model exactly as it was when trained. Information about the model architecture needs to be saved in the checkpoint, along with the state dict. To do this, you build a dictionary with all the information you need to compeletely rebuild the model."
   ]
  },
  {
   "cell_type": "code",
   "execution_count": 12,
   "metadata": {},
   "outputs": [],
   "source": [
    "checkpoint = {'input_size': 784,\n",
    "              'output_size': 10,\n",
    "              'hidden_layers': [each.out_features for each in model.hidden_layers],\n",
    "              'state_dict': model.state_dict()}\n",
    "\n",
    "torch.save(checkpoint, 'checkpoint.pth')"
   ]
  },
  {
   "cell_type": "markdown",
   "metadata": {},
   "source": [
    "Now the checkpoint has all the necessary information to rebuild the trained model. You can easily make that a function if you want. Similarly, we can write a function to load checkpoints. "
   ]
  },
  {
   "cell_type": "code",
   "execution_count": 13,
   "metadata": {},
   "outputs": [],
   "source": [
    "def load_checkpoint(filepath):\n",
    "    checkpoint = torch.load(filepath)\n",
    "    model = fc_model.Network(checkpoint['input_size'],\n",
    "                             checkpoint['output_size'],\n",
    "                             checkpoint['hidden_layers'])\n",
    "    model.load_state_dict(checkpoint['state_dict'])\n",
    "    \n",
    "    return model"
   ]
  },
  {
   "cell_type": "code",
   "execution_count": 14,
   "metadata": {},
   "outputs": [
    {
     "name": "stdout",
     "output_type": "stream",
     "text": [
      "Network(\n",
      "  (hidden_layers): ModuleList(\n",
      "    (0): Linear(in_features=784, out_features=400, bias=True)\n",
      "    (1): Linear(in_features=400, out_features=200, bias=True)\n",
      "    (2): Linear(in_features=200, out_features=100, bias=True)\n",
      "  )\n",
      "  (output): Linear(in_features=100, out_features=10, bias=True)\n",
      "  (dropout): Dropout(p=0.5, inplace=False)\n",
      ")\n"
     ]
    }
   ],
   "source": [
    "model = load_checkpoint('checkpoint.pth')\n",
    "print(model)"
   ]
  }
 ],
 "metadata": {
  "kernelspec": {
   "display_name": "Python 3",
   "language": "python",
   "name": "python3"
  },
  "language_info": {
   "codemirror_mode": {
    "name": "ipython",
    "version": 3
   },
   "file_extension": ".py",
   "mimetype": "text/x-python",
   "name": "python",
   "nbconvert_exporter": "python",
   "pygments_lexer": "ipython3",
   "version": "3.7.3"
  },
  "varInspector": {
   "cols": {
    "lenName": 16,
    "lenType": 16,
    "lenVar": 40
   },
   "kernels_config": {
    "python": {
     "delete_cmd_postfix": "",
     "delete_cmd_prefix": "del ",
     "library": "var_list.py",
     "varRefreshCmd": "print(var_dic_list())"
    },
    "r": {
     "delete_cmd_postfix": ") ",
     "delete_cmd_prefix": "rm(",
     "library": "var_list.r",
     "varRefreshCmd": "cat(var_dic_list()) "
    }
   },
   "types_to_exclude": [
    "module",
    "function",
    "builtin_function_or_method",
    "instance",
    "_Feature"
   ],
   "window_display": false
  }
 },
 "nbformat": 4,
 "nbformat_minor": 2
}
