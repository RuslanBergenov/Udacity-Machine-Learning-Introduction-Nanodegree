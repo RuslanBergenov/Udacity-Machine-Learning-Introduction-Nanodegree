{
 "cells": [
  {
   "cell_type": "markdown",
   "metadata": {},
   "source": [
    "# Neural networks with PyTorch\n",
    "\n",
    "Deep learning networks tend to be massive with dozens or hundreds of layers, that's where the term \"deep\" comes from. You can build one of these deep networks using only weight matrices as we did in the previous notebook, but in general it's very cumbersome and difficult to implement. PyTorch has a nice module `nn` that provides a nice way to efficiently build large neural networks."
   ]
  },
  {
   "cell_type": "code",
   "execution_count": 26,
   "metadata": {},
   "outputs": [],
   "source": [
    "# Import necessary packages\n",
    "\n",
    "%matplotlib inline\n",
    "%config InlineBackend.figure_format = 'retina'\n",
    "\n",
    "import numpy as np\n",
    "import torch\n",
    "\n",
    "import helper\n",
    "\n",
    "import matplotlib.pyplot as plt"
   ]
  },
  {
   "cell_type": "markdown",
   "metadata": {},
   "source": [
    "\n",
    "Now we're going to build a larger network that can solve a (formerly) difficult problem, identifying text in an image. Here we'll use the MNIST dataset which consists of greyscale handwritten digits. Each image is 28x28 pixels, you can see a sample below\n",
    "\n",
    "<img src='assets/mnist.png'>\n",
    "\n",
    "Our goal is to build a neural network that can take one of these images and predict the digit in the image.\n",
    "\n",
    "First up, we need to get our dataset. This is provided through the `torchvision` package. The code below will download the MNIST dataset, then create training and test datasets for us. Don't worry too much about the details here, you'll learn more about this later."
   ]
  },
  {
   "cell_type": "code",
   "execution_count": 2,
   "metadata": {},
   "outputs": [],
   "source": [
    "### Run this cell\n",
    "\n",
    "from torchvision import datasets, transforms\n",
    "\n",
    "# Define a transform to normalize the data\n",
    "transform = transforms.Compose([transforms.ToTensor(),\n",
    "                              transforms.Normalize((0.5,), (0.5,)),\n",
    "                              ])\n",
    "# Download and load the training data\n",
    "trainset = datasets.MNIST('~/.pytorch/MNIST_data/', download=True, train=True, transform=transform)\n",
    "torch.manual_seed(7) \n",
    "trainloader = torch.utils.data.DataLoader(trainset, batch_size=64, shuffle=True)"
   ]
  },
  {
   "cell_type": "markdown",
   "metadata": {},
   "source": [
    "We have the training data loaded into `trainloader` and we make that an iterator with `iter(trainloader)`. Later, we'll use this to loop through the dataset for training, like\n",
    "\n",
    "```python\n",
    "for image, label in trainloader:\n",
    "    ## do things with images and labels\n",
    "```\n",
    "\n",
    "You'll notice I created the `trainloader` with a batch size of 64, and `shuffle=True`. The batch size is the number of images we get in one iteration from the data loader and pass through our network, often called a *batch*. And `shuffle=True` tells it to shuffle the dataset every time we start going through the data loader again. But here I'm just grabbing the first batch so we can check out the data. We can see below that `images` is just a tensor with size `(64, 1, 28, 28)`. So, 64 images per batch, 1 color channel, and 28x28 images."
   ]
  },
  {
   "cell_type": "code",
   "execution_count": 3,
   "metadata": {},
   "outputs": [
    {
     "name": "stdout",
     "output_type": "stream",
     "text": [
      "<class 'torch.Tensor'>\n",
      "torch.Size([64, 1, 28, 28])\n",
      "torch.Size([64])\n"
     ]
    }
   ],
   "source": [
    "dataiter = iter(trainloader)\n",
    "images, labels = dataiter.next()\n",
    "print(type(images))\n",
    "print(images.shape)\n",
    "print(labels.shape)"
   ]
  },
  {
   "cell_type": "markdown",
   "metadata": {},
   "source": [
    "This is what one of the images looks like. "
   ]
  },
  {
   "cell_type": "code",
   "execution_count": 4,
   "metadata": {},
   "outputs": [
    {
     "data": {
      "image/png": "[encoded data removed]",
      "text/plain": [
       "<Figure size 432x288 with 1 Axes>"
      ]
     },
     "metadata": {
      "image/png": {
       "height": 248,
       "width": 251
      },
      "needs_background": "light"
     },
     "output_type": "display_data"
    }
   ],
   "source": [
    "plt.imshow(images[1].numpy().squeeze(), cmap='Greys_r');"
   ]
  },
  {
   "cell_type": "markdown",
   "metadata": {},
   "source": [
    "First, let's try to build a simple network for this dataset using weight matrices and matrix multiplications. Then, we'll see how to do it using PyTorch's `nn` module which provides a much more convenient and powerful method for defining network architectures.\n",
    "\n",
    "The networks you've seen so far are called *fully-connected* or *dense* networks. Each unit in one layer is connected to each unit in the next layer. In fully-connected networks, the input to each layer must be a one-dimensional vector (which can be stacked into a 2D tensor as a batch of multiple examples). However, our images are 28x28 2D tensors, so we need to convert them into 1D vectors. Thinking about sizes, we need to convert the batch of images with shape `(64, 1, 28, 28)` to a have a shape of `(64, 784)`, 784 is 28 times 28. This is typically called *flattening*, we flattened the 2D images into 1D vectors.\n",
    "\n",
    "Previously you built a network with one output unit. Here we need 10 output units, one for each digit. We want our network to predict the digit shown in an image, so what we'll do is calculate probabilities that the image is of any one digit or class. This ends up being a discrete probability distribution over the classes (digits) that tells us the most likely class for the image. That means we need 10 output units for the 10 classes (digits). We'll see how to convert the network output into a probability distribution next.\n",
    "\n",
    "> **Exercise:** Flatten the batch of images `images`. Then build a multi-layer network with 784 input units, 256 hidden units, and 10 output units using random tensors for the weights and biases. For now, use a sigmoid activation for the hidden layer. Leave the output layer without an activation, we'll add one that gives us a probability distribution next."
   ]
  },
  {
   "cell_type": "code",
   "execution_count": 5,
   "metadata": {},
   "outputs": [
    {
     "name": "stdout",
     "output_type": "stream",
     "text": [
      "<class 'torch.Tensor'>\n",
      "torch.Size([64, 784])\n"
     ]
    }
   ],
   "source": [
    "inputs = images.view(images.shape[0], -1)\n",
    "print(type(inputs))\n",
    "print(inputs.shape)"
   ]
  },
  {
   "cell_type": "code",
   "execution_count": 6,
   "metadata": {},
   "outputs": [
    {
     "name": "stdout",
     "output_type": "stream",
     "text": [
      "out_shape: torch.Size([64, 10])\n",
      "out: tensor([[-1.4023e+01, -1.1042e+01, -5.5446e-02, -8.5413e+00,  1.4610e+01,\n",
      "          1.3467e+01, -1.4717e+01, -3.1554e+00, -1.0507e+01, -4.3840e+00],\n",
      "        [-1.3602e+01, -1.2563e+01,  7.8807e-01, -3.0656e+00,  9.4789e+00,\n",
      "          4.6989e+00, -4.1930e-01,  3.2248e+00, -1.0575e+01,  1.7720e+00],\n",
      "        [-1.0112e+01, -1.2590e+01, -3.9102e+00, -1.2615e+01,  4.7334e+00,\n",
      "          3.7853e+00, -9.9623e+00,  5.8477e+00, -2.2561e+01,  3.4284e+00],\n",
      "        [-1.7231e+01, -1.1577e+01,  6.3963e-01, -1.3755e+01,  8.4990e+00,\n",
      "          7.9737e+00,  4.1870e-01,  6.5722e+00, -1.2720e+01, -1.0073e+01],\n",
      "        [-1.5905e+01, -8.9751e+00, -8.9112e-01, -1.5226e+01,  1.2166e+01,\n",
      "          7.0617e+00,  1.1042e+00,  1.3038e+01, -1.1376e+01, -1.1886e+01],\n",
      "        [-9.0754e+00, -3.1877e+00, -1.5929e+00, -9.3210e+00,  1.2436e+01,\n",
      "          1.3214e+01, -1.3101e+01,  8.3197e+00, -1.9074e+01, -4.1029e+00],\n",
      "        [-1.1769e+01, -9.9701e+00, -7.6935e-01, -1.0960e+00,  1.4027e+01,\n",
      "          8.2214e+00, -9.4384e+00, -6.1541e+00,  7.8180e-01, -8.8572e+00],\n",
      "        [-1.2541e+01, -6.5340e+00, -3.3130e+00, -1.2306e+01,  8.5518e+00,\n",
      "          7.7200e+00, -1.0837e+01,  4.4167e+00, -8.4781e+00, -2.8612e+00],\n",
      "        [-1.6406e+01, -7.1467e+00, -5.1944e+00, -1.1377e+01,  3.7263e+00,\n",
      "          1.5900e+00, -2.9788e+00, -3.2362e+00, -6.8928e+00, -1.0300e+00],\n",
      "        [-6.9304e+00, -7.6976e+00, -1.2750e+00, -1.2686e+01,  1.0835e+01,\n",
      "          1.1359e+01, -1.1001e+01, -3.5167e+00, -9.1185e+00, -4.4158e+00],\n",
      "        [-1.2779e+01, -9.6195e+00, -4.8839e-01, -9.4286e+00,  8.3805e+00,\n",
      "          4.1872e+00, -7.4507e-01, -4.5634e+00, -2.0931e+01, -2.1159e+00],\n",
      "        [-1.1432e+01, -5.8302e+00, -2.3003e-01, -5.8730e+00,  8.8012e+00,\n",
      "          4.1264e+00, -1.0292e+01,  3.6397e+00, -2.4175e+00, -8.5151e+00],\n",
      "        [-2.0133e+01, -3.7461e+00, -1.1428e+00, -1.2730e+00, -7.6125e-01,\n",
      "         -1.9224e+00, -5.2794e+00,  5.3954e+00, -1.9159e+01, -6.4360e+00],\n",
      "        [-1.6809e+01, -1.4594e+01, -1.0344e+01, -9.5518e+00,  1.0076e+01,\n",
      "          4.6905e+00, -2.4328e+00,  9.1718e+00, -7.1471e+00, -2.9920e+00],\n",
      "        [-1.3029e+01, -1.0317e+01,  1.7756e+00, -1.0182e+01,  1.1404e+01,\n",
      "          5.0611e+00, -5.6727e+00,  2.0812e+00, -8.3817e+00, -6.0546e+00],\n",
      "        [-1.1225e+01, -7.7159e+00, -2.2999e+00, -1.4755e+01,  1.8199e+00,\n",
      "          1.1572e+01, -4.8080e+00,  1.1014e+01, -9.2297e+00, -4.4883e+00],\n",
      "        [-5.0566e+00, -6.5657e+00, -2.6356e+00, -1.3552e+01,  9.6423e+00,\n",
      "          6.0033e+00, -1.3211e+01,  4.9753e-01, -4.3737e+00, -3.1456e+00],\n",
      "        [-1.9312e+01, -1.0772e+01, -5.1195e+00, -1.4042e+01, -1.5344e+00,\n",
      "          4.9333e+00, -1.3324e+01, -4.5647e+00, -1.4369e+01, -9.0207e-01],\n",
      "        [-1.5684e+01, -6.4527e+00, -1.0507e+01, -1.3631e+01,  1.3333e+01,\n",
      "          8.9024e+00, -1.2809e+01,  1.5012e+01, -1.0567e+01, -8.5937e+00],\n",
      "        [-1.5804e+01, -5.1580e+00, -1.0279e+00, -9.8776e+00,  3.3872e-01,\n",
      "          8.5235e+00, -6.3983e+00,  5.1545e+00, -9.2454e+00, -8.5871e+00],\n",
      "        [-1.8663e+01, -7.8733e+00,  5.9642e+00, -2.0184e+01,  1.2293e+01,\n",
      "          1.4046e+01, -5.8664e+00,  3.5377e+00, -8.3119e+00, -1.3060e+00],\n",
      "        [-8.6519e+00, -5.1524e+00, -2.2254e+00,  4.3195e+00,  1.4515e+01,\n",
      "          9.0332e+00, -3.2827e+00, -6.8541e+00, -1.5166e+01, -1.7812e+00],\n",
      "        [-1.2724e+01, -3.0370e+00,  4.3912e+00, -6.1081e+00,  1.0148e+01,\n",
      "          7.8441e-01, -7.5924e+00,  6.6283e+00, -6.7170e+00, -4.9170e+00],\n",
      "        [-2.0928e+01, -2.7870e+00,  3.1772e+00, -7.2361e+00,  1.0174e+01,\n",
      "          3.0502e+00,  2.1235e+00,  9.3798e+00, -1.0147e+01, -7.6387e+00],\n",
      "        [-9.6955e+00, -2.6474e+00, -1.1042e-02, -1.4841e+01,  2.4766e+00,\n",
      "          4.6579e+00, -1.1940e+01,  1.2089e+00, -1.7401e+01, -2.7452e+00],\n",
      "        [-1.0613e+01, -1.0785e+01,  1.4710e+00, -4.9982e+00,  1.6494e+01,\n",
      "          1.2426e+01, -4.7279e+00,  1.0793e+00, -7.7128e+00, -6.5083e-01],\n",
      "        [-1.4425e+01, -1.1303e+01, -6.7006e+00, -1.3672e+01,  9.1873e+00,\n",
      "          5.3314e+00, -8.0670e+00,  3.9231e+00, -1.4389e+01,  3.1300e-01],\n",
      "        [-1.6511e+01, -3.5639e+00,  6.3376e+00,  5.3112e+00,  2.2352e+00,\n",
      "          3.6873e+00, -1.4290e+01, -6.3080e+00, -1.0645e+01, -3.5646e+00],\n",
      "        [-5.8466e+00, -2.7850e+00,  3.1472e+00, -1.7881e+01,  1.0350e+01,\n",
      "          3.9740e+00, -6.8807e+00,  1.1702e+01, -6.3489e+00, -1.0925e+01],\n",
      "        [-2.3619e+01, -4.3189e+00, -4.4680e+00, -1.0581e+01,  1.6564e+01,\n",
      "          5.2425e+00, -7.4736e+00,  1.5299e+00, -1.2466e+01, -2.7637e+00],\n",
      "        [-1.6361e+01, -6.2779e+00,  1.4515e+00, -1.7008e+01,  4.6695e+00,\n",
      "          1.2696e+01,  4.7752e+00,  4.7360e+00, -1.8855e+01, -9.0436e+00],\n",
      "        [-5.2256e+00, -1.6584e+01,  5.8486e+00, -1.1604e+01,  8.6023e+00,\n",
      "          5.9566e+00, -5.5469e+00,  1.2849e+00, -1.0297e+01, -7.8961e+00],\n",
      "        [-1.2447e+01, -7.9240e+00,  5.6428e+00,  1.6684e-01,  5.5219e+00,\n",
      "          4.3231e+00, -1.5988e+01, -2.7818e+00, -1.1847e+01, -7.3276e+00],\n",
      "        [-1.5044e+01,  3.8124e+00,  4.3141e+00,  4.3172e+00,  5.3496e+00,\n",
      "          3.8739e+00, -7.7928e+00,  3.3600e+00, -7.3516e+00,  6.2155e-01],\n",
      "        [-1.6304e+01, -1.7903e+00,  7.6782e+00, -2.1193e+01,  1.2369e+01,\n",
      "          2.2077e+00,  3.4254e+00, -2.5836e+00, -1.5988e+01, -1.3026e+01],\n",
      "        [-1.2595e+01, -9.9673e+00,  5.0366e-01, -1.2299e+01, -1.3411e+00,\n",
      "          7.4479e+00, -3.7090e+00,  4.0516e+00, -1.6898e+01, -1.7116e+00],\n",
      "        [-8.7972e+00, -9.1066e+00, -5.0104e+00, -1.6505e+01,  2.0293e+00,\n",
      "          7.3875e+00, -7.9125e+00, -8.9371e+00, -5.0739e+00, -8.6771e+00],\n",
      "        [-1.6630e+01, -1.4654e+01, -1.0032e+01, -7.4926e+00,  9.4279e+00,\n",
      "          6.8662e-01, -7.2956e-02,  1.0543e+01, -8.4093e+00, -3.9335e+00],\n",
      "        [-1.6606e+01, -8.2212e+00,  4.6638e+00, -1.2041e+01,  1.3291e+01,\n",
      "          5.7200e+00,  1.0701e-01, -2.4916e+00, -1.0376e+01, -7.9471e+00],\n",
      "        [-8.8876e+00, -1.1727e+01, -1.5401e+00, -6.5566e+00,  1.6109e+01,\n",
      "          5.0381e+00, -6.0778e+00,  8.0557e+00, -1.1788e+01, -5.3951e+00],\n",
      "        [-5.8207e+00, -1.5261e+01, -3.0845e+00, -1.4512e+01,  8.6125e+00,\n",
      "          1.9186e+01,  8.2314e+00,  1.2954e+01, -1.7293e+01,  2.9305e-02],\n",
      "        [-1.3668e+01, -6.7694e+00, -7.0096e+00, -1.6532e+01,  2.4992e+00,\n",
      "          7.3274e+00, -7.3813e+00,  4.2851e+00, -1.3072e+01, -3.6398e+00],\n",
      "        [-1.5513e+01, -9.7342e+00,  5.0812e+00, -1.5749e+00,  2.7402e+00,\n",
      "          7.6591e+00,  2.3274e+00,  1.2214e+00, -2.8721e+00, -9.4758e+00],\n",
      "        [-1.2750e+01, -4.8116e+00, -2.6903e+00, -1.5145e+01,  2.3411e+00,\n",
      "          8.6132e+00, -9.7181e-01,  4.9920e+00, -1.2291e+01, -7.1655e+00],\n",
      "        [-1.3513e+01, -3.4257e+00,  1.6579e+00, -5.4256e+00,  5.7664e+00,\n",
      "          1.4211e+01,  5.3263e-01, -2.9349e+00, -1.6302e+01, -1.5205e+00],\n",
      "        [-1.0237e+01, -3.4184e+00, -3.7436e+00, -1.0461e+01,  7.5893e+00,\n",
      "          7.6863e+00, -7.7224e+00,  1.0886e+00, -9.7040e+00, -4.9448e+00],\n",
      "        [-1.7056e+01, -4.0591e+00, -3.8348e+00, -6.1366e+00,  3.8584e+00,\n",
      "          1.2497e+01, -2.5651e+00,  1.5478e+00, -1.7588e+01,  3.5160e+00],\n",
      "        [-1.0133e+01, -4.0601e+00,  5.1933e+00, -6.4885e+00,  1.0362e+01,\n",
      "         -5.3844e+00, -1.2178e+01, -6.6909e+00, -1.7119e+01, -1.2230e-01],\n",
      "        [-1.4549e+01, -7.4928e+00,  2.9841e+00, -9.9571e+00,  4.1982e+00,\n",
      "          1.2468e+01, -1.2082e+01,  5.0163e+00, -2.8042e+00, -6.4991e+00],\n",
      "        [-2.9003e+00, -6.7498e+00, -5.5881e+00, -1.4045e+01, -5.7378e+00,\n",
      "          1.1319e+01, -4.7330e+00,  5.4407e-01, -1.2613e+01, -1.5339e+00],\n",
      "        [-1.7724e+01, -5.8708e+00,  4.4431e-01, -6.2375e+00,  1.1349e+01,\n",
      "          3.9536e+00, -5.2408e+00, -2.7431e+00, -1.8428e+01, -4.0307e+00],\n",
      "        [-9.3321e+00, -1.9663e+00, -1.1648e+01, -8.2514e+00, -5.1902e-01,\n",
      "          1.1260e+00, -5.7095e-01, -1.7156e+00, -1.5209e+01,  1.1388e+01],\n",
      "        [-1.2173e+01, -1.3866e+01, -2.3097e+00, -1.0578e+01,  9.5643e+00,\n",
      "          3.4080e+00, -7.2943e+00, -8.0278e-01, -1.7706e+01, -8.9747e+00],\n",
      "        [-1.4289e+01, -7.9063e+00, -5.3460e-01, -1.8947e+01, -3.1046e-01,\n",
      "          7.1558e+00, -1.3746e+00,  4.0656e+00, -1.6628e+01, -4.5974e+00],\n",
      "        [-1.5453e+01, -1.9325e+00, -1.1205e+01, -6.9438e+00, -8.8706e+00,\n",
      "          1.0914e+01, -7.8634e+00, -2.2972e-01, -1.8530e+01, -6.3236e+00],\n",
      "        [-9.6236e+00, -6.8398e+00, -6.3207e+00, -1.0044e+01,  2.6306e+00,\n",
      "          1.4523e+00, -7.9747e+00, -5.3275e-01, -2.7970e+00,  1.3358e+00],\n",
      "        [-2.0059e+01, -1.7627e+00, -3.0263e-02, -2.3069e+01,  1.2407e+00,\n",
      "          8.7657e+00,  1.6059e+00,  3.4402e+00, -1.7844e+01, -3.4283e+00],\n",
      "        [-7.0948e+00, -4.3704e+00,  7.0309e-02, -1.3168e+01,  6.3887e+00,\n",
      "          1.3691e+01, -1.2357e+01, -1.7291e+00, -1.2301e+01, -3.1290e+00],\n",
      "        [-1.2830e+01, -5.4136e+00, -9.7582e+00, -8.2201e+00,  8.8353e+00,\n",
      "          5.7480e-02, -1.9130e+00, -5.9352e+00, -1.3126e+01, -6.4107e+00],\n",
      "        [-1.5925e+01, -1.1436e+01,  1.7395e+00, -7.2364e+00,  1.4500e+01,\n",
      "          3.7587e+00,  3.0673e+00, -5.4112e+00, -1.1735e+01, -4.3627e+00],\n",
      "        [-7.5103e+00, -1.3554e+01, -1.3268e+01, -8.7786e+00,  7.6791e+00,\n",
      "          7.6262e+00, -9.6045e+00,  9.8289e+00, -1.6658e+01, -3.6854e+00],\n",
      "        [-1.7352e+01, -6.9706e+00,  2.8602e+00, -2.1518e+00, -1.2875e+00,\n",
      "          1.1140e+01, -2.8046e+00, -1.2251e+01, -1.4003e+01,  1.0386e+00],\n",
      "        [-1.1074e+01, -1.4284e+01,  1.1981e+00, -1.0862e+01,  6.9243e+00,\n",
      "          4.9114e+00, -2.3681e+00,  1.0874e-01, -6.8948e+00, -6.3903e+00],\n",
      "        [-1.6416e+01, -4.6899e+00,  1.4442e+00, -4.6162e+00,  1.3137e+01,\n"
     ]
    },
    {
     "name": "stdout",
     "output_type": "stream",
     "text": [
      "         -1.3250e+00, -1.1072e+01, -1.9064e-01, -1.6912e+01, -1.7962e+00]])\n"
     ]
    }
   ],
   "source": [
    "## Solution\n",
    "torch.manual_seed(7) # Set the random seed so things are predictable\n",
    "\n",
    "\n",
    "def activation(x):\n",
    "    return 1/(1+torch.exp(-x))\n",
    "\n",
    "# Flatten the input images\n",
    "inputs = images.view(images.shape[0], -1)\n",
    "\n",
    "# Create parameters\n",
    "### Generate some data\n",
    "# torch.manual_seed(1) # Set the random seed so things are predictable\n",
    "w1 = torch.randn(784, 256)\n",
    "### Generate some data\n",
    "# torch.manual_seed(3) # Set the random seed so things are predictable\n",
    "\n",
    "\n",
    "### Generate some data\n",
    "# torch.manual_seed(2) # Set the random seed so things are predictable\n",
    "w2 = torch.randn(256, 10)\n",
    "### Generate some data\n",
    "# torch.manual_seed(4) # Set the random seed so things are predictable\n",
    "\n",
    "b1 = torch.randn(256)\n",
    "\n",
    "\n",
    "b2 = torch.randn(10)\n",
    "\n",
    "h = activation(torch.mm(inputs, w1) + b1)\n",
    "\n",
    "out = torch.mm(h, w2) + b2\n",
    "\n",
    "print('out_shape:', out.shape)\n",
    "\n",
    "print('out:', out)"
   ]
  },
  {
   "cell_type": "code",
   "execution_count": 7,
   "metadata": {},
   "outputs": [
    {
     "name": "stdout",
     "output_type": "stream",
     "text": [
      "torch.Size([784, 256])\n",
      "tensor([[-0.8201,  0.3956,  0.8989,  ..., -0.8095,  0.0931, -0.3004],\n",
      "        [ 0.0063, -1.5065, -0.6245,  ...,  0.2500, -0.8542,  0.4376],\n",
      "        [ 0.3811,  0.3953, -1.5423,  ...,  0.8410,  0.6489,  0.0831],\n",
      "        ...,\n",
      "        [-0.2211,  2.2698,  0.3598,  ...,  1.1744,  0.1071, -0.5518],\n",
      "        [-0.5600,  0.3535,  0.1987,  ..., -0.3272,  0.7141,  0.3582],\n",
      "        [-0.1653, -1.2431,  0.6112,  ...,  1.0518, -0.8067, -0.7709]])\n"
     ]
    }
   ],
   "source": [
    "print(w1.shape)\n",
    "print(w1)"
   ]
  },
  {
   "cell_type": "code",
   "execution_count": 8,
   "metadata": {},
   "outputs": [
    {
     "name": "stdout",
     "output_type": "stream",
     "text": [
      "torch.Size([256, 10])\n",
      "tensor([[ 0.6339,  1.0345,  0.3033,  ..., -0.1860, -0.6364,  2.1867],\n",
      "        [ 1.3871, -0.3107, -2.7180,  ..., -0.1921, -1.2932, -0.7217],\n",
      "        [-0.8895, -0.3219, -0.0805,  ...,  0.6811, -1.0980, -1.3810],\n",
      "        ...,\n",
      "        [-0.5285,  2.4616, -0.3759,  ..., -1.0795, -0.5645, -1.3539],\n",
      "        [ 0.2632, -2.2103,  0.9946,  ...,  0.0997,  0.6885,  1.9427],\n",
      "        [ 0.4363, -0.9149, -1.5136,  ..., -0.7218, -0.9097, -0.7107]])\n"
     ]
    }
   ],
   "source": [
    "print(w2.shape)\n",
    "print(w2)"
   ]
  },
  {
   "cell_type": "code",
   "execution_count": 9,
   "metadata": {
    "scrolled": true
   },
   "outputs": [
    {
     "name": "stdout",
     "output_type": "stream",
     "text": [
      "torch.Size([256])\n",
      "tensor([ 0.7149,  0.6391, -0.9468,  0.6111,  1.5337,  0.1529,  1.5468, -0.9979,\n",
      "         2.1075, -1.9619,  0.5851, -0.0518, -0.0596, -0.0039,  2.4317, -0.8046,\n",
      "        -0.0613,  0.8964, -0.1711,  0.4709, -0.4805,  0.6235, -0.1567, -0.1102,\n",
      "         1.2652, -1.6166, -0.2357,  0.1173,  1.3401,  1.4215,  0.7395,  0.1019,\n",
      "        -0.9962,  1.0348,  1.7533, -2.3131, -0.0257, -0.5041,  0.8696,  0.3856,\n",
      "         0.4578, -0.8792,  0.8854,  1.1591,  1.6646, -0.2215,  0.9049, -0.1276,\n",
      "        -0.5799, -0.5257,  0.0240,  0.2594, -1.8826,  1.3392,  0.7814,  2.2156,\n",
      "         1.2746, -0.5243, -0.4295, -0.3225, -1.1501,  0.4566,  1.0014, -2.8142,\n",
      "        -0.1465,  0.3128, -0.5625,  0.0347,  0.1021, -0.9091,  0.0979,  0.9576,\n",
      "        -0.2307,  0.5282,  2.5405,  1.4265,  1.4662, -0.9381, -0.3563, -0.2176,\n",
      "        -0.7131,  0.2172, -0.2947, -0.9215, -0.2526, -1.3041, -0.9596,  0.6026,\n",
      "         0.2500,  0.2582, -1.0267,  0.0261, -0.4179,  1.2987,  2.5355, -0.1682,\n",
      "        -0.7441, -0.0480,  0.7085, -1.0430,  1.6970,  0.1162, -0.0150, -1.6518,\n",
      "         0.0034, -0.4086, -2.3391, -0.7113,  1.1904,  0.9898, -1.4300,  0.6581,\n",
      "        -1.6350,  0.7007, -0.0614, -0.0600, -0.4891, -2.4256, -0.0463,  1.2095,\n",
      "        -0.0635, -1.5256, -0.0985, -0.8564,  1.1518, -1.1931,  1.3311,  0.4637,\n",
      "         0.5104,  0.9343,  2.7530,  0.8304, -0.7449,  0.9520, -0.6101,  0.0037,\n",
      "         1.5588,  0.5781,  1.6157,  1.1864, -0.1059,  0.8955,  0.5089, -0.5682,\n",
      "         0.5934, -1.4285,  0.4242,  0.3133,  0.9954, -0.6814,  1.6840,  0.2694,\n",
      "         0.2489,  1.2575, -0.2049, -0.9840,  1.2153,  0.0435,  0.1597,  0.9136,\n",
      "         1.1404,  0.4976,  2.4049, -1.2975, -0.7476,  2.5345,  0.7615,  1.0451,\n",
      "         0.5536,  0.9991,  0.5526, -0.0721, -3.0442, -1.8129, -0.8466, -1.9117,\n",
      "         0.0989,  1.0894,  1.0988, -0.3363,  0.9586,  0.2918,  0.2559,  0.7558,\n",
      "        -0.7602, -1.8358,  0.3545, -0.5371, -0.5341,  1.5675, -0.4118,  1.1028,\n",
      "        -2.1238, -0.5777,  1.0439, -2.7941,  1.3027,  0.8645,  1.2941,  1.1189,\n",
      "         1.1336, -0.7071,  0.8700, -2.1905, -1.1429,  0.7345, -1.0534,  0.1086,\n",
      "        -2.3883,  0.0468,  1.3603,  0.4944, -0.6741,  0.4602, -0.8606,  2.0539,\n",
      "         0.4668,  0.3952, -0.6453,  0.3608, -0.2328, -0.2933, -2.0921,  1.4156,\n",
      "        -1.1043, -0.2244, -1.2447, -1.1257,  1.9774, -0.7801, -0.6585,  0.0824,\n",
      "        -0.0792,  0.0413,  1.5400,  1.7533, -2.0053, -0.5925, -0.9915, -1.4284,\n",
      "        -0.6961,  1.1634, -0.9546,  1.7595, -1.1099, -0.6329, -0.7099, -0.2695,\n",
      "         1.6135,  0.9572, -0.5114,  0.8759, -0.0380, -0.4646, -0.8043,  1.1730])\n"
     ]
    }
   ],
   "source": [
    "print(b1.shape)\n",
    "print(b1)"
   ]
  },
  {
   "cell_type": "code",
   "execution_count": 10,
   "metadata": {},
   "outputs": [
    {
     "name": "stdout",
     "output_type": "stream",
     "text": [
      "torch.Size([10])\n",
      "tensor([ 2.3840, -1.6445,  1.6947, -0.0045,  0.4340, -0.8494, -1.2688,  0.4180,\n",
      "        -0.2822,  0.0992])\n"
     ]
    }
   ],
   "source": [
    "print(b2.shape)\n",
    "print(b2)"
   ]
  },
  {
   "cell_type": "code",
   "execution_count": null,
   "metadata": {},
   "outputs": [],
   "source": []
  },
  {
   "cell_type": "markdown",
   "metadata": {},
   "source": [
    "Now we have 10 outputs for our network. We want to pass in an image to our network and get out a probability distribution over the classes that tells us the likely class(es) the image belongs to. Something that looks like this:\n",
    "<img src='assets/image_distribution.png' width=500px>\n",
    "\n",
    "Here we see that the probability for each class is roughly the same. This is representing an untrained network, it hasn't seen any data yet so it just returns a uniform distribution with equal probabilities for each class.\n",
    "\n",
    "To calculate this probability distribution, we often use the [**softmax** function](https://en.wikipedia.org/wiki/Softmax_function). Mathematically this looks like\n",
    "\n",
    "$$\n",
    "\\Large \\sigma(x_i) = \\cfrac{e^{x_i}}{\\sum_k^K{e^{x_k}}}\n",
    "$$\n",
    "\n",
    "What this does is squish each input $x_i$ between 0 and 1 and normalizes the values to give you a proper probability distribution where the probabilites sum up to one.\n",
    "\n",
    "> **Exercise:** Implement a function `softmax` that performs the softmax calculation and returns probability distributions for each example in the batch. Note that you'll need to pay attention to the shapes when doing this. If you have a tensor `a` with shape `(64, 10)` and a tensor `b` with shape `(64,)`, doing `a/b` will give you an error because PyTorch will try to do the division across the columns (called broadcasting) but you'll get a size mismatch. The way to think about this is for each of the 64 examples, you only want to divide by one value, the sum in the denominator. So you need `b` to have a shape of `(64, 1)`. This way PyTorch will divide the 10 values in each row of `a` by the one value in each row of `b`. Pay attention to how you take the sum as well. You'll need to define the `dim` keyword in `torch.sum`. Setting `dim=0` takes the sum across the rows while `dim=1` takes the sum across the columns."
   ]
  },
  {
   "cell_type": "code",
   "execution_count": 11,
   "metadata": {},
   "outputs": [
    {
     "name": "stdout",
     "output_type": "stream",
     "text": [
      "torch.Size([64, 10])\n",
      "tensor([1.0000, 1.0000, 1.0000, 1.0000, 1.0000, 1.0000, 1.0000, 1.0000, 1.0000,\n",
      "        1.0000, 1.0000, 1.0000, 1.0000, 1.0000, 1.0000, 1.0000, 1.0000, 1.0000,\n",
      "        1.0000, 1.0000, 1.0000, 1.0000, 1.0000, 1.0000, 1.0000, 1.0000, 1.0000,\n",
      "        1.0000, 1.0000, 1.0000, 1.0000, 1.0000, 1.0000, 1.0000, 1.0000, 1.0000,\n",
      "        1.0000, 1.0000, 1.0000, 1.0000, 1.0000, 1.0000, 1.0000, 1.0000, 1.0000,\n",
      "        1.0000, 1.0000, 1.0000, 1.0000, 1.0000, 1.0000, 1.0000, 1.0000, 1.0000,\n",
      "        1.0000, 1.0000, 1.0000, 1.0000, 1.0000, 1.0000, 1.0000, 1.0000, 1.0000,\n",
      "        1.0000])\n"
     ]
    }
   ],
   "source": [
    "## Solution\n",
    "def softmax(x):\n",
    "    return torch.exp(x)/torch.sum(torch.exp(x), dim=1).view(-1, 1)\n",
    "\n",
    "probabilities = softmax(out)\n",
    "\n",
    "# Does it have the right shape? Should be (64, 10)\n",
    "print(probabilities.shape)\n",
    "# Does it sum to 1?\n",
    "print(probabilities.sum(dim=1))"
   ]
  },
  {
   "cell_type": "code",
   "execution_count": 12,
   "metadata": {},
   "outputs": [
    {
     "data": {
      "text/plain": [
       "tensor([[2.7838e-13, 5.4893e-12, 3.2414e-07, 6.6895e-11, 7.5817e-01, 2.4183e-01,\n",
       "         1.3911e-13, 1.4602e-08, 9.3669e-12, 4.2744e-09],\n",
       "        [9.3579e-11, 2.6458e-10, 1.6629e-04, 3.5256e-06, 9.8913e-01, 8.3044e-03,\n",
       "         4.9717e-05, 1.9016e-03, 1.9315e-09, 4.4482e-04],\n",
       "        [7.5866e-08, 6.3664e-09, 3.7452e-05, 6.2106e-09, 2.1248e-01, 8.2333e-02,\n",
       "         8.8114e-08, 6.4753e-01, 2.9743e-13, 5.7619e-02],\n",
       "        [3.8505e-12, 1.0991e-09, 2.2220e-04, 1.2457e-10, 5.7548e-01, 3.4032e-01,\n",
       "         1.7816e-04, 8.3795e-02, 3.5050e-10, 4.9460e-09],\n",
       "        [1.8959e-13, 1.9375e-10, 6.2814e-07, 3.7369e-13, 2.9423e-01, 1.7861e-03,\n",
       "         4.6197e-06, 7.0397e-01, 1.7557e-11, 1.0545e-11],\n",
       "        [1.4237e-10, 5.1340e-08, 2.5297e-07, 1.1138e-10, 3.1326e-01, 6.8163e-01,\n",
       "         2.5414e-12, 5.1054e-03, 6.4736e-15, 2.0558e-08],\n",
       "        [6.2454e-12, 3.7733e-11, 3.7374e-07, 2.6958e-07, 9.9700e-01, 3.0006e-03,\n",
       "         6.4217e-11, 1.7140e-09, 1.7629e-06, 1.1483e-10],\n",
       "        [4.7619e-10, 1.9345e-07, 4.8463e-06, 6.0227e-10, 6.8905e-01, 2.9991e-01,\n",
       "         2.6164e-09, 1.1026e-02, 2.7686e-08, 7.6146e-06],\n",
       "        [1.5991e-09, 1.6797e-05, 1.1832e-04, 2.4436e-07, 8.8571e-01, 1.0459e-01,\n",
       "         1.0847e-03, 8.3853e-04, 2.1651e-05, 7.6150e-03],\n",
       "        [7.1640e-09, 3.3265e-09, 2.0477e-06, 2.2667e-11, 3.7192e-01, 6.2808e-01,\n",
       "         1.2224e-10, 2.1763e-07, 8.0330e-10, 8.8563e-08],\n",
       "        [6.3645e-10, 1.4999e-08, 1.3856e-04, 1.8153e-08, 9.8486e-01, 1.4867e-02,\n",
       "         1.0719e-04, 2.3546e-06, 1.8353e-13, 2.7217e-05],\n",
       "        [1.6085e-09, 4.3564e-07, 1.1783e-04, 4.1738e-07, 9.8503e-01, 9.1882e-03,\n",
       "         5.0257e-09, 5.6473e-03, 1.3220e-05, 2.9721e-08],\n",
       "        [8.1390e-12, 1.0653e-04, 1.4389e-03, 1.2633e-03, 2.1074e-03, 6.5990e-04,\n",
       "         2.2991e-05, 9.9439e-01, 2.1556e-11, 7.2316e-06],\n",
       "        [1.4953e-12, 1.3705e-11, 9.6106e-10, 2.1214e-09, 7.0954e-01, 3.2508e-03,\n",
       "         2.6204e-06, 2.8721e-01, 2.3495e-08, 1.4980e-06],\n",
       "        [2.4424e-11, 3.6805e-10, 6.5699e-05, 4.2125e-10, 9.9809e-01, 1.7557e-03,\n",
       "         3.8265e-08, 8.9184e-05, 2.5488e-09, 2.6120e-08],\n",
       "        [7.9955e-11, 2.6716e-09, 6.0106e-07, 2.3436e-12, 3.6992e-05, 6.3589e-01,\n",
       "         4.8940e-08, 3.6408e-01, 5.8791e-10, 6.7373e-08],\n",
       "        [4.0274e-07, 8.9054e-08, 4.5340e-06, 8.2320e-11, 9.7428e-01, 2.5603e-02,\n",
       "         1.1579e-10, 1.0403e-04, 7.9730e-07, 2.7226e-06],\n",
       "        [2.9397e-11, 1.5045e-07, 4.2868e-05, 5.7151e-09, 1.5457e-03, 9.9543e-01,\n",
       "         1.1717e-08, 7.4660e-05, 4.1218e-09, 2.9089e-03],\n",
       "        [3.9250e-14, 4.0075e-10, 6.9507e-12, 3.0589e-13, 1.5690e-01, 1.8687e-03,\n",
       "         6.9584e-13, 8.4124e-01, 6.5452e-12, 4.7102e-11],\n",
       "        [2.6286e-11, 1.1050e-06, 6.8715e-05, 9.8555e-09, 2.6950e-04, 9.6639e-01,\n",
       "         3.1968e-07, 3.3267e-02, 1.8545e-08, 3.5821e-08],\n",
       "        [5.3115e-15, 2.5773e-10, 2.6346e-04, 1.1606e-15, 1.4764e-01, 8.5207e-01,\n",
       "         1.9177e-09, 2.3276e-05, 1.6623e-10, 1.8336e-07],\n",
       "        [8.6444e-11, 2.8613e-09, 5.3422e-08, 3.7166e-05, 9.9582e-01, 4.1428e-03,\n",
       "         1.8559e-08, 5.2181e-10, 1.2816e-13, 8.3303e-08],\n",
       "        [1.1289e-10, 1.8189e-06, 3.0609e-03, 8.4346e-08, 9.6818e-01, 8.3068e-05,\n",
       "         1.9118e-08, 2.8669e-02, 4.5877e-08, 2.7756e-07],\n",
       "        [2.1373e-14, 1.6165e-06, 6.2921e-04, 1.8897e-08, 6.8773e-01, 5.5419e-04,\n",
       "         2.1938e-04, 3.1087e-01, 1.0283e-09, 1.2634e-08],\n",
       "        [5.0546e-07, 5.8164e-04, 8.1209e-03, 2.9461e-09, 9.7716e-02, 8.6555e-01,\n",
       "         5.3561e-08, 2.7507e-02, 2.2757e-10, 5.2745e-04],\n",
       "        [1.6601e-12, 1.3982e-12, 2.9390e-07, 4.5565e-10, 9.8317e-01, 1.6827e-02,\n",
       "         5.9711e-10, 1.9864e-07, 3.0179e-11, 3.5212e-08],\n",
       "        [5.4194e-11, 1.2293e-09, 1.2264e-07, 1.1509e-10, 9.7421e-01, 2.0610e-02,\n",
       "         3.1276e-08, 5.0404e-03, 5.6199e-11, 1.3633e-04],\n",
       "        [8.2563e-11, 3.4659e-05, 6.9178e-01, 2.4786e-01, 1.1437e-02, 4.8860e-02,\n",
       "         7.6095e-10, 2.2288e-06, 2.9138e-08, 3.4636e-05],\n",
       "        [1.8996e-08, 4.0580e-07, 1.5297e-04, 1.1273e-13, 2.0539e-01, 3.4972e-04,\n",
       "         6.7540e-09, 7.9411e-01, 1.1496e-08, 1.1830e-10],\n",
       "        [3.5402e-18, 8.5257e-10, 7.3451e-10, 1.6259e-12, 9.9999e-01, 1.2112e-05,\n",
       "         3.6366e-11, 2.9570e-07, 2.4691e-13, 4.0380e-09],\n",
       "        [2.3991e-13, 5.7420e-09, 1.3060e-05, 1.2561e-13, 3.2620e-04, 9.9895e-01,\n",
       "         3.6256e-04, 3.4863e-04, 1.9806e-14, 3.6137e-10],\n",
       "        [8.6998e-07, 1.0149e-11, 5.6104e-02, 1.4772e-09, 8.8081e-01, 6.2501e-02,\n",
       "         6.3092e-07, 5.8477e-04, 5.4593e-09, 6.0220e-08],\n",
       "        [6.4488e-09, 5.9429e-07, 4.6346e-01, 1.9401e-03, 4.1066e-01, 1.2384e-01,\n",
       "         1.8699e-10, 1.0168e-04, 1.1751e-08, 1.0790e-06],\n",
       "        [6.0451e-10, 9.3455e-02, 1.5434e-01, 1.5482e-01, 4.3471e-01, 9.9380e-02,\n",
       "         8.5218e-07, 5.9446e-02, 1.3247e-06, 3.8444e-03],\n",
       "        [3.4966e-13, 7.0271e-07, 9.0971e-03, 2.6308e-15, 9.9073e-01, 3.8290e-05,\n",
       "         1.2940e-04, 3.1789e-07, 4.7966e-13, 9.2726e-12],\n",
       "        [1.9074e-09, 2.6414e-08, 9.3178e-04, 2.5656e-09, 1.4728e-04, 9.6644e-01,\n",
       "         1.3797e-05, 3.2370e-02, 2.5806e-11, 1.0168e-04],\n",
       "        [9.3115e-08, 6.8338e-08, 4.1081e-06, 4.1853e-11, 4.6874e-03, 9.9530e-01,\n",
       "         2.2556e-07, 8.0959e-08, 3.8552e-06, 1.0501e-07],\n",
       "        [1.1906e-12, 8.5845e-12, 8.7323e-10, 1.1066e-08, 2.4688e-01, 3.9463e-05,\n",
       "         1.8463e-05, 7.5306e-01, 4.4246e-09, 3.8876e-07],\n",
       "        [1.0366e-13, 4.5385e-10, 1.7896e-04, 9.9514e-12, 9.9930e-01, 5.1461e-04,\n",
       "         1.8784e-06, 1.3972e-07, 5.2631e-11, 5.9698e-10],\n",
       "        [1.3927e-11, 8.1406e-13, 2.1618e-08, 1.4328e-10, 9.9967e-01, 1.5548e-05,\n",
       "         2.3126e-10, 3.1785e-04, 7.6605e-13, 4.5772e-10],\n",
       "        [1.3766e-11, 1.0936e-15, 2.1238e-10, 2.3125e-15, 2.5532e-05, 9.9799e-01,\n",
       "         1.7440e-05, 1.9621e-03, 1.4334e-16, 4.7801e-09],\n",
       "        [7.2131e-10, 7.1496e-07, 5.6228e-07, 4.1145e-11, 7.5788e-03, 9.4720e-01,\n",
       "         3.8773e-07, 4.5207e-02, 1.3096e-09, 1.6347e-05],\n",
       "        [7.9291e-11, 2.5636e-08, 6.9677e-02, 8.9616e-05, 6.7050e-03, 9.1760e-01,\n",
       "         4.4375e-03, 1.4683e-03, 2.4493e-05, 3.3196e-08],\n",
       "        [5.1254e-10, 1.4368e-06, 1.1985e-05, 4.6738e-11, 1.8356e-03, 9.7208e-01,\n",
       "         6.6834e-05, 2.6003e-02, 8.1148e-10, 1.3649e-07],\n",
       "        [9.1126e-13, 2.1906e-08, 3.5344e-06, 2.9646e-09, 2.1510e-04, 9.9978e-01,\n",
       "         1.1471e-06, 3.5783e-08, 5.6010e-14, 1.4722e-07],\n",
       "        [8.6151e-09, 7.8795e-06, 5.6922e-06, 6.8834e-09, 4.7541e-01, 5.2386e-01,\n",
       "         1.0649e-07, 7.1429e-04, 1.4679e-08, 1.7123e-06],\n",
       "        [1.4629e-13, 6.4524e-08, 8.0748e-08, 8.0806e-09, 1.7711e-04, 9.9968e-01,\n",
       "         2.8744e-07, 1.7569e-05, 8.5977e-14, 1.2576e-04],\n",
       "        [1.2500e-09, 5.4224e-07, 5.6611e-03, 4.7815e-08, 9.9431e-01, 1.4423e-07,\n",
       "         1.6171e-10, 3.9053e-08, 1.1558e-12, 2.7820e-05],\n",
       "        [1.8466e-12, 2.1426e-09, 7.6029e-05, 1.8226e-10, 2.5601e-04, 9.9909e-01,\n",
       "         2.1778e-11, 5.8019e-04, 2.3291e-07, 5.7877e-09],\n",
       "        [6.6763e-07, 1.4213e-08, 4.5419e-08, 9.6442e-12, 3.9103e-08, 9.9998e-01,\n",
       "         1.0680e-07, 2.0912e-05, 4.0392e-11, 2.6178e-06],\n",
       "        [2.3630e-13, 3.3213e-08, 1.8362e-05, 2.3017e-08, 9.9937e-01, 6.1374e-04,\n",
       "         6.2360e-08, 7.5799e-07, 1.1690e-13, 2.0915e-07],\n",
       "        [1.0035e-09, 1.5865e-06, 9.9028e-11, 2.9572e-09, 6.7452e-06, 3.4947e-05,\n",
       "         6.4039e-06, 2.0387e-06, 2.8126e-12, 9.9995e-01],\n",
       "        [3.6208e-10, 6.6592e-11, 6.9542e-06, 1.7834e-09, 9.9785e-01, 2.1155e-03,\n",
       "         4.7587e-08, 3.1384e-05, 1.4317e-12, 8.8647e-09],\n",
       "        [4.6436e-10, 2.7466e-07, 4.3679e-04, 4.4060e-12, 5.4653e-04, 9.5536e-01,\n",
       "         1.8857e-04, 4.3464e-02, 4.4779e-11, 7.5131e-06],\n",
       "        [3.5387e-12, 2.6342e-06, 2.4766e-10, 1.7549e-08, 2.5554e-09, 9.9998e-01,\n",
       "         6.9966e-09, 1.4460e-05, 1.6306e-13, 3.2629e-08],\n",
       "        [2.9256e-06, 4.7340e-05, 7.9551e-05, 1.9222e-06, 6.1400e-01, 1.8899e-01,\n",
       "         1.5216e-05, 2.5961e-02, 2.6976e-03, 1.6821e-01],\n",
       "        [3.0128e-13, 2.6594e-05, 1.5038e-04, 1.4845e-14, 5.3598e-04, 9.9367e-01,\n",
       "         7.7226e-04, 4.8351e-03, 2.7603e-12, 5.0285e-06],\n",
       "        [9.3912e-10, 1.4319e-08, 1.2147e-06, 2.1628e-12, 6.7378e-04, 9.9932e-01,\n",
       "         4.8684e-12, 2.0090e-07, 5.1482e-12, 4.9549e-08],\n",
       "        [3.8978e-10, 6.4819e-07, 8.4117e-09, 3.9163e-08, 9.9982e-01, 1.5409e-04,\n",
       "         2.1479e-05, 3.8477e-07, 2.8984e-10, 2.3916e-07],\n",
       "        [6.1203e-14, 5.4480e-12, 2.8728e-06, 3.6318e-10, 9.9996e-01, 2.1640e-05,\n",
       "         1.0839e-05, 2.2533e-09, 4.0405e-12, 6.4292e-09],\n",
       "        [2.4034e-08, 5.7040e-11, 7.5925e-11, 6.7610e-09, 9.4959e-02, 9.0065e-02,\n",
       "         2.9603e-09, 8.1498e-01, 2.5588e-12, 1.1015e-06],\n",
       "        [4.2266e-13, 1.3636e-08, 2.5362e-04, 1.6884e-06, 4.0073e-06, 9.9970e-01,\n",
       "         8.7896e-07, 6.9435e-11, 1.2039e-11, 4.1026e-05],\n",
       "        [1.3402e-08, 5.4099e-10, 2.8639e-03, 1.6563e-08, 8.7870e-01, 1.1739e-01,\n",
       "         8.0945e-05, 9.6352e-04, 8.7554e-07, 1.4501e-06],\n",
       "        [1.4628e-13, 1.8100e-08, 8.3500e-06, 1.9485e-08, 9.9999e-01, 5.2367e-07,\n",
       "         3.0609e-11, 1.6281e-06, 8.9082e-14, 3.2688e-07]])"
      ]
     },
     "execution_count": 12,
     "metadata": {},
     "output_type": "execute_result"
    }
   ],
   "source": [
    "probabilities"
   ]
  },
  {
   "cell_type": "markdown",
   "metadata": {},
   "source": [
    "## Building networks with PyTorch\n",
    "\n",
    "PyTorch provides a module `nn` that makes building networks much simpler. Here I'll show you how to build the same one as above with 784 inputs, 256 hidden units, 10 output units and a softmax output."
   ]
  },
  {
   "cell_type": "code",
   "execution_count": 13,
   "metadata": {},
   "outputs": [],
   "source": [
    "from torch import nn"
   ]
  },
  {
   "cell_type": "code",
   "execution_count": 14,
   "metadata": {},
   "outputs": [],
   "source": [
    "class Network(nn.Module):\n",
    "    def __init__(self):\n",
    "        super().__init__()\n",
    "        \n",
    "        # Inputs to hidden layer linear transformation\n",
    "        self.hidden = nn.Linear(784, 256)\n",
    "        # Output layer, 10 units - one for each digit\n",
    "        self.output = nn.Linear(256, 10)\n",
    "        \n",
    "        # Define sigmoid activation and softmax output \n",
    "        self.sigmoid = nn.Sigmoid()\n",
    "        self.softmax = nn.Softmax(dim=1)\n",
    "        \n",
    "    def forward(self, x):\n",
    "        # Pass the input tensor through each of our operations\n",
    "        x = self.hidden(x)\n",
    "        x = self.sigmoid(x)\n",
    "        x = self.output(x)\n",
    "        x = self.softmax(x)\n",
    "        \n",
    "        return x"
   ]
  },
  {
   "cell_type": "markdown",
   "metadata": {},
   "source": [
    "Let's go through this bit by bit.\n",
    "\n",
    "```python\n",
    "class Network(nn.Module):\n",
    "```\n",
    "\n",
    "Here we're inheriting from `nn.Module`. Combined with `super().__init__()` this creates a class that tracks the architecture and provides a lot of useful methods and attributes. It is mandatory to inherit from `nn.Module` when you're creating a class for your network. The name of the class itself can be anything.\n",
    "\n",
    "```python\n",
    "self.hidden = nn.Linear(784, 256)\n",
    "```\n",
    "\n",
    "This line creates a module for a linear transformation, $x\\mathbf{W} + b$, with 784 inputs and 256 outputs and assigns it to `self.hidden`. The module automatically creates the weight and bias tensors which we'll use in the `forward` method. You can access the weight and bias tensors once the network (`net`) is created with `net.hidden.weight` and `net.hidden.bias`.\n",
    "\n",
    "```python\n",
    "self.output = nn.Linear(256, 10)\n",
    "```\n",
    "\n",
    "Similarly, this creates another linear transformation with 256 inputs and 10 outputs.\n",
    "\n",
    "```python\n",
    "self.sigmoid = nn.Sigmoid()\n",
    "self.softmax = nn.Softmax(dim=1)\n",
    "```\n",
    "\n",
    "Here I defined operations for the sigmoid activation and softmax output. Setting `dim=1` in `nn.Softmax(dim=1)` calculates softmax across the columns.\n",
    "\n",
    "```python\n",
    "def forward(self, x):\n",
    "```\n",
    "\n",
    "PyTorch networks created with `nn.Module` must have a `forward` method defined. It takes in a tensor `x` and passes it through the operations you defined in the `__init__` method.\n",
    "\n",
    "```python\n",
    "x = self.hidden(x)\n",
    "x = self.sigmoid(x)\n",
    "x = self.output(x)\n",
    "x = self.softmax(x)\n",
    "```\n",
    "\n",
    "Here the input tensor `x` is passed through each operation a reassigned to `x`. We can see that the input tensor goes through the hidden layer, then a sigmoid function, then the output layer, and finally the softmax function. It doesn't matter what you name the variables here, as long as the inputs and outputs of the operations match the network architecture you want to build. The order in which you define things in the `__init__` method doesn't matter, but you'll need to sequence the operations correctly in the `forward` method.\n",
    "\n",
    "Now we can create a `Network` object."
   ]
  },
  {
   "cell_type": "code",
   "execution_count": 15,
   "metadata": {},
   "outputs": [
    {
     "data": {
      "text/plain": [
       "Network(\n",
       "  (hidden): Linear(in_features=784, out_features=256, bias=True)\n",
       "  (output): Linear(in_features=256, out_features=10, bias=True)\n",
       "  (sigmoid): Sigmoid()\n",
       "  (softmax): Softmax(dim=1)\n",
       ")"
      ]
     },
     "execution_count": 15,
     "metadata": {},
     "output_type": "execute_result"
    }
   ],
   "source": [
    "# Create the network and look at it's text representation\n",
    "model = Network()\n",
    "model"
   ]
  },
  {
   "cell_type": "markdown",
   "metadata": {},
   "source": [
    "You can define the network somewhat more concisely and clearly using the `torch.nn.functional` module. This is the most common way you'll see networks defined as many operations are simple element-wise functions. We normally import this module as `F`, `import torch.nn.functional as F`."
   ]
  },
  {
   "cell_type": "code",
   "execution_count": 16,
   "metadata": {},
   "outputs": [],
   "source": [
    "import torch.nn.functional as F\n",
    "\n",
    "class Network(nn.Module):\n",
    "    def __init__(self):\n",
    "        super().__init__()\n",
    "        # Inputs to hidden layer linear transformation\n",
    "        self.hidden = nn.Linear(784, 256)\n",
    "        # Output layer, 10 units - one for each digit\n",
    "        self.output = nn.Linear(256, 10)\n",
    "        \n",
    "    def forward(self, x):\n",
    "        # Hidden layer with sigmoid activation\n",
    "        x = F.sigmoid(self.hidden(x))\n",
    "        # Output layer with softmax activation\n",
    "        x = F.softmax(self.output(x), dim=1)\n",
    "        \n",
    "        return x"
   ]
  },
  {
   "cell_type": "markdown",
   "metadata": {},
   "source": [
    "### Activation functions\n",
    "\n",
    "So far we've only been looking at the softmax activation, but in general any function can be used as an activation function. The only requirement is that for a network to approximate a non-linear function, the activation functions must be non-linear. Here are a few more examples of common activation functions: Tanh (hyperbolic tangent), and ReLU (rectified linear unit).\n",
    "\n",
    "<img src=\"assets/activation.png\" width=700px>\n",
    "\n",
    "In practice, the ReLU function is used almost exclusively as the activation function for hidden layers."
   ]
  },
  {
   "cell_type": "markdown",
   "metadata": {},
   "source": [
    "### Your Turn to Build a Network\n",
    "\n",
    "<img src=\"assets/mlp_mnist.png\" width=600px>\n",
    "\n",
    "> **Exercise:** Create a network with 784 input units, a hidden layer with 128 units and a ReLU activation, then a hidden layer with 64 units and a ReLU activation, and finally an output layer with a softmax activation as shown above. You can use a ReLU activation with the `nn.ReLU` module or `F.relu` function."
   ]
  },
  {
   "cell_type": "code",
   "execution_count": 17,
   "metadata": {
    "scrolled": true
   },
   "outputs": [
    {
     "data": {
      "text/plain": [
       "Network(\n",
       "  (fc1): Linear(in_features=784, out_features=128, bias=True)\n",
       "  (fc2): Linear(in_features=128, out_features=64, bias=True)\n",
       "  (fc3): Linear(in_features=64, out_features=10, bias=True)\n",
       ")"
      ]
     },
     "execution_count": 17,
     "metadata": {},
     "output_type": "execute_result"
    }
   ],
   "source": [
    "## Solution\n",
    "torch.manual_seed(7) \n",
    "class Network(nn.Module):\n",
    "    def __init__(self):\n",
    "        super().__init__()\n",
    "        # Defining the layers, 128, 64, 10 units each\n",
    "        self.fc1 = nn.Linear(784, 128)\n",
    "        self.fc2 = nn.Linear(128, 64)\n",
    "        # Output layer, 10 units - one for each digit\n",
    "        self.fc3 = nn.Linear(64, 10)\n",
    "        \n",
    "    def forward(self, x):\n",
    "        ''' Forward pass through the network, returns the output logits '''\n",
    "        \n",
    "        x = self.fc1(x)\n",
    "        x = F.relu(x)\n",
    "        x = self.fc2(x)\n",
    "        x = F.relu(x)\n",
    "        x = self.fc3(x)\n",
    "        x = F.softmax(x, dim=1)\n",
    "        \n",
    "        return x\n",
    "\n",
    "model = Network()\n",
    "model"
   ]
  },
  {
   "cell_type": "markdown",
   "metadata": {},
   "source": [
    "### Initializing weights and biases\n",
    "\n",
    "The weights and such are automatically initialized for you, but it's possible to customize how they are initialized. The weights and biases are tensors attached to the layer you defined, you can get them with `model.fc1.weight` for instance."
   ]
  },
  {
   "cell_type": "code",
   "execution_count": 18,
   "metadata": {},
   "outputs": [
    {
     "name": "stdout",
     "output_type": "stream",
     "text": [
      "Parameter containing:\n",
      "tensor([[ 2.4945e-03, -2.1514e-02,  1.1372e-02,  ...,  2.3490e-02,\n",
      "         -3.4548e-02,  2.3653e-02],\n",
      "        [ 3.3077e-05, -2.2735e-02, -1.0311e-02,  ...,  1.7026e-02,\n",
      "         -1.3917e-02, -2.0039e-02],\n",
      "        [-1.6752e-02, -1.9683e-02, -1.9263e-02,  ...,  6.4771e-03,\n",
      "         -1.4055e-02,  1.4966e-02],\n",
      "        ...,\n",
      "        [-3.4493e-02,  3.3553e-02, -2.7586e-02,  ...,  6.2408e-03,\n",
      "         -1.1582e-02, -1.4566e-02],\n",
      "        [-2.1782e-03, -4.6771e-03, -1.3024e-02,  ...,  2.8419e-02,\n",
      "         -1.2565e-02,  3.0100e-03],\n",
      "        [-1.0337e-02, -2.4091e-02, -2.5221e-02,  ...,  1.0698e-02,\n",
      "         -3.1701e-02,  3.2672e-02]], requires_grad=True)\n",
      "Parameter containing:\n",
      "tensor([ 0.0048, -0.0146,  0.0170,  0.0262, -0.0180,  0.0002, -0.0306, -0.0086,\n",
      "        -0.0222, -0.0325,  0.0004,  0.0012, -0.0320,  0.0124,  0.0130,  0.0235,\n",
      "         0.0311, -0.0310,  0.0150, -0.0296,  0.0220,  0.0164,  0.0282,  0.0216,\n",
      "        -0.0355, -0.0038, -0.0210, -0.0240,  0.0301, -0.0138,  0.0031,  0.0295,\n",
      "        -0.0106,  0.0031, -0.0215,  0.0151,  0.0090, -0.0110,  0.0284,  0.0247,\n",
      "        -0.0335, -0.0092, -0.0027, -0.0280, -0.0119, -0.0193, -0.0145, -0.0141,\n",
      "        -0.0332,  0.0100,  0.0156, -0.0154,  0.0335, -0.0224,  0.0312, -0.0212,\n",
      "         0.0174,  0.0226,  0.0108,  0.0066,  0.0064, -0.0015, -0.0161,  0.0175,\n",
      "        -0.0208,  0.0196, -0.0174,  0.0238, -0.0019,  0.0146, -0.0068, -0.0009,\n",
      "        -0.0348,  0.0228, -0.0059,  0.0044, -0.0046,  0.0113,  0.0167, -0.0026,\n",
      "         0.0091,  0.0111, -0.0078, -0.0003, -0.0232,  0.0200,  0.0167,  0.0272,\n",
      "        -0.0278, -0.0339, -0.0076, -0.0169, -0.0103,  0.0089,  0.0018, -0.0067,\n",
      "         0.0166, -0.0196, -0.0282, -0.0259,  0.0253,  0.0068,  0.0188,  0.0041,\n",
      "         0.0024,  0.0023,  0.0006, -0.0332,  0.0172, -0.0315,  0.0166,  0.0339,\n",
      "         0.0275, -0.0338, -0.0051,  0.0041, -0.0198,  0.0338, -0.0163, -0.0176,\n",
      "         0.0160,  0.0178, -0.0235,  0.0162, -0.0107,  0.0323, -0.0145,  0.0042],\n",
      "       requires_grad=True)\n"
     ]
    }
   ],
   "source": [
    "print(model.fc1.weight)\n",
    "print(model.fc1.bias)"
   ]
  },
  {
   "cell_type": "markdown",
   "metadata": {},
   "source": [
    "For custom initialization, we want to modify these tensors in place. These are actually autograd *Variables*, so we need to get back the actual tensors with `model.fc1.weight.data`. Once we have the tensors, we can fill them with zeros (for biases) or random normal values."
   ]
  },
  {
   "cell_type": "code",
   "execution_count": 19,
   "metadata": {},
   "outputs": [
    {
     "data": {
      "text/plain": [
       "tensor([0., 0., 0., 0., 0., 0., 0., 0., 0., 0., 0., 0., 0., 0., 0., 0., 0., 0., 0., 0., 0., 0., 0., 0.,\n",
       "        0., 0., 0., 0., 0., 0., 0., 0., 0., 0., 0., 0., 0., 0., 0., 0., 0., 0., 0., 0., 0., 0., 0., 0.,\n",
       "        0., 0., 0., 0., 0., 0., 0., 0., 0., 0., 0., 0., 0., 0., 0., 0., 0., 0., 0., 0., 0., 0., 0., 0.,\n",
       "        0., 0., 0., 0., 0., 0., 0., 0., 0., 0., 0., 0., 0., 0., 0., 0., 0., 0., 0., 0., 0., 0., 0., 0.,\n",
       "        0., 0., 0., 0., 0., 0., 0., 0., 0., 0., 0., 0., 0., 0., 0., 0., 0., 0., 0., 0., 0., 0., 0., 0.,\n",
       "        0., 0., 0., 0., 0., 0., 0., 0.])"
      ]
     },
     "execution_count": 19,
     "metadata": {},
     "output_type": "execute_result"
    }
   ],
   "source": [
    "# Set biases to all zeros\n",
    "model.fc1.bias.data.fill_(0)"
   ]
  },
  {
   "cell_type": "code",
   "execution_count": 20,
   "metadata": {},
   "outputs": [
    {
     "data": {
      "text/plain": [
       "tensor([[-7.9640e-04,  3.1442e-03,  1.7340e-03,  ..., -1.3006e-02,\n",
       "         -1.6810e-02, -1.8502e-02],\n",
       "        [-1.5749e-02,  2.9127e-03,  3.7363e-03,  ...,  8.5603e-03,\n",
       "          1.8358e-02,  2.9510e-03],\n",
       "        [-8.7606e-03,  4.1433e-03,  3.2255e-03,  ...,  5.7245e-03,\n",
       "          1.2794e-02,  1.0908e-02],\n",
       "        ...,\n",
       "        [-1.5650e-05,  9.9011e-03, -6.1874e-03,  ...,  1.5196e-02,\n",
       "          1.5222e-02,  5.1083e-03],\n",
       "        [-6.7239e-04,  1.2961e-02,  8.9851e-03,  ...,  4.2858e-03,\n",
       "          6.5064e-03,  5.6875e-03],\n",
       "        [ 8.0813e-03,  5.5816e-04,  7.8110e-04,  ...,  1.3629e-02,\n",
       "         -1.4355e-03, -6.2049e-06]])"
      ]
     },
     "execution_count": 20,
     "metadata": {},
     "output_type": "execute_result"
    }
   ],
   "source": [
    "# sample from random normal with standard dev = 0.01\n",
    "model.fc1.weight.data.normal_(std=0.01)"
   ]
  },
  {
   "cell_type": "markdown",
   "metadata": {},
   "source": [
    "### Forward pass\n",
    "\n",
    "Now that we have a network, let's see what happens when we pass in an image."
   ]
  },
  {
   "cell_type": "code",
   "execution_count": 21,
   "metadata": {},
   "outputs": [
    {
     "data": {
      "image/png": "[encoded data removed]",
      "text/plain": [
       "<Figure size 432x648 with 2 Axes>"
      ]
     },
     "metadata": {
      "image/png": {
       "height": 235,
       "width": 424
      },
      "needs_background": "light"
     },
     "output_type": "display_data"
    }
   ],
   "source": [
    "# Grab some data \n",
    "dataiter = iter(trainloader)\n",
    "images, labels = dataiter.next()\n",
    "\n",
    "# Resize images into a 1D vector, new shape is (batch size, color channels, image pixels) \n",
    "images.resize_(64, 1, 784)\n",
    "# or images.resize_(images.shape[0], 1, 784) to automatically get batch size\n",
    "\n",
    "# Forward pass through the network\n",
    "img_idx = 0\n",
    "ps = model.forward(images[img_idx,:])\n",
    "\n",
    "img = images[img_idx]\n",
    "helper.view_classify(img.view(1, 28, 28), ps)"
   ]
  },
  {
   "cell_type": "markdown",
   "metadata": {},
   "source": [
    "As you can see above, our network has basically no idea what this digit is. It's because we haven't trained it yet, all the weights are random!\n",
    "\n",
    "### Using `nn.Sequential`\n",
    "\n",
    "PyTorch provides a convenient way to build networks like this where a tensor is passed sequentially through operations, `nn.Sequential` ([documentation](https://pytorch.org/docs/master/nn.html#torch.nn.Sequential)). Using this to build the equivalent network:"
   ]
  },
  {
   "cell_type": "code",
   "execution_count": 22,
   "metadata": {},
   "outputs": [
    {
     "name": "stdout",
     "output_type": "stream",
     "text": [
      "Sequential(\n",
      "  (0): Linear(in_features=784, out_features=128, bias=True)\n",
      "  (1): ReLU()\n",
      "  (2): Linear(in_features=128, out_features=64, bias=True)\n",
      "  (3): ReLU()\n",
      "  (4): Linear(in_features=64, out_features=10, bias=True)\n",
      "  (5): Softmax(dim=1)\n",
      ")\n"
     ]
    },
    {
     "data": {
      "image/png": "[encoded data removed]",
      "text/plain": [
       "<Figure size 432x648 with 2 Axes>"
      ]
     },
     "metadata": {
      "image/png": {
       "height": 235,
       "width": 424
      },
      "needs_background": "light"
     },
     "output_type": "display_data"
    }
   ],
   "source": [
    "# Hyperparameters for our network\n",
    "input_size = 784\n",
    "hidden_sizes = [128, 64]\n",
    "output_size = 10\n",
    "\n",
    "# Build a feed-forward network\n",
    "model = nn.Sequential(nn.Linear(input_size, hidden_sizes[0]),\n",
    "                      nn.ReLU(),\n",
    "                      nn.Linear(hidden_sizes[0], hidden_sizes[1]),\n",
    "                      nn.ReLU(),\n",
    "                      nn.Linear(hidden_sizes[1], output_size),\n",
    "                      nn.Softmax(dim=1))\n",
    "print(model)\n",
    "\n",
    "# Forward pass through the network and display output\n",
    "images, labels = next(iter(trainloader))\n",
    "images.resize_(images.shape[0], 1, 784)\n",
    "ps = model.forward(images[0,:])\n",
    "helper.view_classify(images[0].view(1, 28, 28), ps)"
   ]
  },
  {
   "cell_type": "markdown",
   "metadata": {},
   "source": [
    "The operations are availble by passing in the appropriate index. For example, if you want to get first Linear operation and look at the weights, you'd use `model[0]`."
   ]
  },
  {
   "cell_type": "code",
   "execution_count": 23,
   "metadata": {},
   "outputs": [
    {
     "name": "stdout",
     "output_type": "stream",
     "text": [
      "Linear(in_features=784, out_features=128, bias=True)\n"
     ]
    },
    {
     "data": {
      "text/plain": [
       "Parameter containing:\n",
       "tensor([[-0.0177, -0.0268, -0.0221,  ..., -0.0261, -0.0206,  0.0148],\n",
       "        [-0.0229, -0.0008,  0.0259,  ..., -0.0191, -0.0068,  0.0327],\n",
       "        [ 0.0065,  0.0248,  0.0102,  ...,  0.0257,  0.0177,  0.0343],\n",
       "        ...,\n",
       "        [-0.0223,  0.0015, -0.0160,  ...,  0.0141,  0.0222,  0.0314],\n",
       "        [-0.0066, -0.0139,  0.0106,  ...,  0.0121,  0.0148, -0.0241],\n",
       "        [ 0.0266,  0.0248, -0.0068,  ...,  0.0086, -0.0107,  0.0238]],\n",
       "       requires_grad=True)"
      ]
     },
     "execution_count": 23,
     "metadata": {},
     "output_type": "execute_result"
    }
   ],
   "source": [
    "print(model[0])\n",
    "model[0].weight"
   ]
  },
  {
   "cell_type": "markdown",
   "metadata": {},
   "source": [
    "You can also pass in an `OrderedDict` to name the individual layers and operations, instead of using incremental integers. Note that dictionary keys must be unique, so _each operation must have a different name_."
   ]
  },
  {
   "cell_type": "code",
   "execution_count": 24,
   "metadata": {},
   "outputs": [
    {
     "data": {
      "text/plain": [
       "Sequential(\n",
       "  (fc1): Linear(in_features=784, out_features=128, bias=True)\n",
       "  (relu1): ReLU()\n",
       "  (fc2): Linear(in_features=128, out_features=64, bias=True)\n",
       "  (relu2): ReLU()\n",
       "  (output): Linear(in_features=64, out_features=10, bias=True)\n",
       "  (softmax): Softmax(dim=1)\n",
       ")"
      ]
     },
     "execution_count": 24,
     "metadata": {},
     "output_type": "execute_result"
    }
   ],
   "source": [
    "from collections import OrderedDict\n",
    "model = nn.Sequential(OrderedDict([\n",
    "                      ('fc1', nn.Linear(input_size, hidden_sizes[0])),\n",
    "                      ('relu1', nn.ReLU()),\n",
    "                      ('fc2', nn.Linear(hidden_sizes[0], hidden_sizes[1])),\n",
    "                      ('relu2', nn.ReLU()),\n",
    "                      ('output', nn.Linear(hidden_sizes[1], output_size)),\n",
    "                      ('softmax', nn.Softmax(dim=1))]))\n",
    "model"
   ]
  },
  {
   "cell_type": "markdown",
   "metadata": {},
   "source": [
    "Now you can access layers either by integer or the name"
   ]
  },
  {
   "cell_type": "code",
   "execution_count": 25,
   "metadata": {},
   "outputs": [
    {
     "name": "stdout",
     "output_type": "stream",
     "text": [
      "Linear(in_features=784, out_features=128, bias=True)\n",
      "Linear(in_features=784, out_features=128, bias=True)\n"
     ]
    }
   ],
   "source": [
    "print(model[0])\n",
    "print(model.fc1)"
   ]
  },
  {
   "cell_type": "markdown",
   "metadata": {},
   "source": [
    "In the next notebook, we'll see how we can train a neural network to accuractly predict the numbers appearing in the MNIST images."
   ]
  }
 ],
 "metadata": {
  "kernelspec": {
   "display_name": "Python 3",
   "language": "python",
   "name": "python3"
  },
  "language_info": {
   "codemirror_mode": {
    "name": "ipython",
    "version": 3
   },
   "file_extension": ".py",
   "mimetype": "text/x-python",
   "name": "python",
   "nbconvert_exporter": "python",
   "pygments_lexer": "ipython3",
   "version": "3.7.3"
  },
  "varInspector": {
   "cols": {
    "lenName": 16,
    "lenType": 16,
    "lenVar": 40
   },
   "kernels_config": {
    "python": {
     "delete_cmd_postfix": "",
     "delete_cmd_prefix": "del ",
     "library": "var_list.py",
     "varRefreshCmd": "print(var_dic_list())"
    },
    "r": {
     "delete_cmd_postfix": ") ",
     "delete_cmd_prefix": "rm(",
     "library": "var_list.r",
     "varRefreshCmd": "cat(var_dic_list()) "
    }
   },
   "types_to_exclude": [
    "module",
    "function",
    "builtin_function_or_method",
    "instance",
    "_Feature"
   ],
   "window_display": false
  }
 },
 "nbformat": 4,
 "nbformat_minor": 2
}
