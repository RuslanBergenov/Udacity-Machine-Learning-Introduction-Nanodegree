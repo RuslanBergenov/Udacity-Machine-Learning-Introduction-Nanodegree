{
 "cells": [
  {
   "cell_type": "markdown",
   "metadata": {},
   "source": [
    "# Neural networks with PyTorch\n",
    "\n",
    "Deep learning networks tend to be massive with dozens or hundreds of layers, that's where the term \"deep\" comes from. You can build one of these deep networks using only weight matrices as we did in the previous notebook, but in general it's very cumbersome and difficult to implement. PyTorch has a nice module `nn` that provides a nice way to efficiently build large neural networks."
   ]
  },
  {
   "cell_type": "code",
   "execution_count": 1,
   "metadata": {},
   "outputs": [],
   "source": [
    "# Import necessary packages\n",
    "\n",
    "%matplotlib inline\n",
    "%config InlineBackend.figure_format = 'retina'\n",
    "\n",
    "import numpy as np\n",
    "import torch\n",
    "\n",
    "import helper\n",
    "\n",
    "import matplotlib.pyplot as plt"
   ]
  },
  {
   "cell_type": "markdown",
   "metadata": {},
   "source": [
    "\n",
    "Now we're going to build a larger network that can solve a (formerly) difficult problem, identifying text in an image. Here we'll use the MNIST dataset which consists of greyscale handwritten digits. Each image is 28x28 pixels, you can see a sample below\n",
    "\n",
    "<img src='assets/mnist.png'>\n",
    "\n",
    "Our goal is to build a neural network that can take one of these images and predict the digit in the image.\n",
    "\n",
    "First up, we need to get our dataset. This is provided through the `torchvision` package. The code below will download the MNIST dataset, then create training and test datasets for us. Don't worry too much about the details here, you'll learn more about this later."
   ]
  },
  {
   "cell_type": "code",
   "execution_count": 2,
   "metadata": {},
   "outputs": [],
   "source": [
    "### Run this cell\n",
    "\n",
    "from torchvision import datasets, transforms\n",
    "\n",
    "# Define a transform to normalize the data\n",
    "transform = transforms.Compose([transforms.ToTensor(),\n",
    "                              transforms.Normalize((0.5,), (0.5,)),\n",
    "                              ])\n",
    "# Download and load the training data\n",
    "trainset = datasets.MNIST('~/.pytorch/MNIST_data/', download=True, train=True, transform=transform)\n",
    "torch.manual_seed(7) \n",
    "trainloader = torch.utils.data.DataLoader(trainset, batch_size=64, shuffle=True)"
   ]
  },
  {
   "cell_type": "markdown",
   "metadata": {},
   "source": [
    "We have the training data loaded into `trainloader` and we make that an iterator with `iter(trainloader)`. Later, we'll use this to loop through the dataset for training, like\n",
    "\n",
    "```python\n",
    "for image, label in trainloader:\n",
    "    ## do things with images and labels\n",
    "```\n",
    "\n",
    "You'll notice I created the `trainloader` with a batch size of 64, and `shuffle=True`. The batch size is the number of images we get in one iteration from the data loader and pass through our network, often called a *batch*. And `shuffle=True` tells it to shuffle the dataset every time we start going through the data loader again. But here I'm just grabbing the first batch so we can check out the data. We can see below that `images` is just a tensor with size `(64, 1, 28, 28)`. So, 64 images per batch, 1 color channel, and 28x28 images."
   ]
  },
  {
   "cell_type": "code",
   "execution_count": 3,
   "metadata": {},
   "outputs": [
    {
     "name": "stdout",
     "output_type": "stream",
     "text": [
      "<class 'torch.Tensor'>\n",
      "torch.Size([64, 1, 28, 28])\n",
      "torch.Size([64])\n"
     ]
    }
   ],
   "source": [
    "dataiter = iter(trainloader)\n",
    "images, labels = dataiter.next()\n",
    "print(type(images))\n",
    "print(images.shape)\n",
    "print(labels.shape)"
   ]
  },
  {
   "cell_type": "markdown",
   "metadata": {},
   "source": [
    "This is what one of the images looks like. "
   ]
  },
  {
   "cell_type": "code",
   "execution_count": 4,
   "metadata": {},
   "outputs": [
    {
     "data": {
      "image/png": "[encoded data removed]",
      "text/plain": [
       "<Figure size 432x288 with 1 Axes>"
      ]
     },
     "metadata": {
      "image/png": {
       "height": 248,
       "width": 251
      },
      "needs_background": "light"
     },
     "output_type": "display_data"
    }
   ],
   "source": [
    "plt.imshow(images[1].numpy().squeeze(), cmap='Greys_r');"
   ]
  },
  {
   "cell_type": "markdown",
   "metadata": {},
   "source": [
    "First, let's try to build a simple network for this dataset using weight matrices and matrix multiplications. Then, we'll see how to do it using PyTorch's `nn` module which provides a much more convenient and powerful method for defining network architectures.\n",
    "\n",
    "The networks you've seen so far are called *fully-connected* or *dense* networks. Each unit in one layer is connected to each unit in the next layer. In fully-connected networks, the input to each layer must be a one-dimensional vector (which can be stacked into a 2D tensor as a batch of multiple examples). However, our images are 28x28 2D tensors, so we need to convert them into 1D vectors. Thinking about sizes, we need to convert the batch of images with shape `(64, 1, 28, 28)` to a have a shape of `(64, 784)`, 784 is 28 times 28. This is typically called *flattening*, we flattened the 2D images into 1D vectors.\n",
    "\n",
    "Previously you built a network with one output unit. Here we need 10 output units, one for each digit. We want our network to predict the digit shown in an image, so what we'll do is calculate probabilities that the image is of any one digit or class. This ends up being a discrete probability distribution over the classes (digits) that tells us the most likely class for the image. That means we need 10 output units for the 10 classes (digits). We'll see how to convert the network output into a probability distribution next.\n",
    "\n",
    "> **Exercise:** Flatten the batch of images `images`. Then build a multi-layer network with 784 input units, 256 hidden units, and 10 output units using random tensors for the weights and biases. For now, use a sigmoid activation for the hidden layer. Leave the output layer without an activation, we'll add one that gives us a probability distribution next."
   ]
  },
  {
   "cell_type": "code",
   "execution_count": 5,
   "metadata": {},
   "outputs": [
    {
     "name": "stdout",
     "output_type": "stream",
     "text": [
      "<class 'torch.Tensor'>\n",
      "torch.Size([64, 784])\n"
     ]
    }
   ],
   "source": [
    "inputs = images.view(images.shape[0], -1)\n",
    "print(type(inputs))\n",
    "print(inputs.shape)"
   ]
  },
  {
   "cell_type": "code",
   "execution_count": 6,
   "metadata": {},
   "outputs": [
    {
     "name": "stdout",
     "output_type": "stream",
     "text": [
      "out_shape: torch.Size([64, 10])\n",
      "out: tensor([[-1.8661e+01, -1.3396e+01, -3.6032e+00, -7.8096e+00,  1.2870e+01,\n",
      "          5.2804e+00, -5.1992e+00,  4.5849e+00, -1.9901e+01, -8.9131e+00],\n",
      "        [-2.0272e+01, -1.4049e+01, -9.1095e+00, -1.3774e+01,  6.2223e+00,\n",
      "          1.3859e+01,  1.1128e+00,  5.7700e+00, -1.5730e+01, -4.1344e+00],\n",
      "        [-8.1273e+00, -1.1590e+01,  4.9527e+00, -1.5140e+01,  6.6472e-01,\n",
      "          3.4678e+00, -4.3269e+00, -5.5896e+00, -1.0860e+01, -8.2487e+00],\n",
      "        [-1.6816e+01, -5.7356e-01,  1.4204e+00, -7.6820e+00,  8.0921e+00,\n",
      "          9.7268e-01, -5.5375e+00,  4.9720e+00, -1.3987e+01,  1.2548e+00],\n",
      "        [-1.7082e+01, -9.2804e+00,  4.0427e+00, -1.6865e+01,  2.2415e+00,\n",
      "          1.0818e+01, -5.2592e+00,  4.0314e+00, -1.1871e+01, -6.7948e-01],\n",
      "        [-2.0514e+01, -8.8089e+00, -9.8063e-01, -7.0245e+00,  9.7300e+00,\n",
      "          3.9518e+00, -5.9237e+00,  1.9476e+00, -9.3539e+00, -8.5172e+00],\n",
      "        [-1.3735e+01, -1.0638e+01,  5.8102e+00, -3.7558e+00,  1.0071e+01,\n",
      "          4.0948e+00, -9.0164e+00,  6.9171e+00, -1.3672e+01, -6.9348e+00],\n",
      "        [-1.4348e+01, -8.2993e+00,  2.8786e+00, -4.8937e+00,  1.3614e+01,\n",
      "          3.0544e+00, -1.2477e+01,  1.6295e+00, -1.0048e+01,  2.3257e+00],\n",
      "        [-1.3918e+01,  8.0841e+00, -1.1348e+00, -1.2442e+01,  1.1090e+01,\n",
      "          4.3580e+00, -3.4869e+00,  4.1786e+00, -2.1720e+01,  1.3851e-01],\n",
      "        [-1.3737e+01, -7.5302e-01,  5.0842e-01, -8.6226e+00,  7.7044e+00,\n",
      "          8.0926e+00, -1.1607e+01,  6.1322e+00, -1.0751e+01,  1.5562e+00],\n",
      "        [-9.5671e+00, -9.7695e+00, -1.6661e+00, -3.0642e-01,  1.2199e+01,\n",
      "          6.6752e+00, -1.7540e+00,  3.1302e-02, -5.8707e+00, -2.0336e+00],\n",
      "        [-1.2714e+01,  3.1299e+00, -4.8839e+00, -9.2065e+00,  1.5205e+00,\n",
      "          1.0540e+01, -1.5913e+01, -4.3813e+00, -1.5100e+01,  1.0175e+00],\n",
      "        [-1.2574e+01, -6.4514e+00, -2.2164e+00, -1.5889e+01,  1.1311e+01,\n",
      "          7.2228e+00, -2.7159e+00,  1.0292e+01, -1.0636e+01, -1.6677e+00],\n",
      "        [-1.2951e+01, -1.3830e+01, -1.4861e+00, -6.0838e+00,  9.0907e+00,\n",
      "          9.7246e-01, -4.2059e+00,  2.9990e+00, -1.1654e+01, -6.4857e+00],\n",
      "        [-1.5949e+01, -6.2659e+00,  5.2940e+00, -1.1136e+01,  8.8835e-01,\n",
      "         -1.6855e+00,  2.2924e+00,  1.0268e+01, -1.2563e+01,  4.6671e+00],\n",
      "        [-1.2551e+01, -1.0176e+01,  3.5547e+00, -1.0012e+01,  7.7955e+00,\n",
      "          7.6220e+00, -1.1253e+01, -3.0981e-01, -1.0535e+01,  2.2082e+00],\n",
      "        [-1.9320e+01, -8.3578e+00, -1.4744e+00, -1.7857e+01,  1.1352e+01,\n",
      "          1.1918e+01,  5.3549e+00,  8.5293e+00, -6.4087e+00,  3.3348e-01],\n",
      "        [-1.4853e+01, -1.1071e+01, -1.7746e+00, -7.5204e+00,  4.0262e+00,\n",
      "          4.1523e+00, -8.1541e+00,  5.3929e+00, -1.1486e+01, -2.0331e+00],\n",
      "        [-1.3058e+01, -4.1374e+00, -1.7075e+00, -7.2551e+00,  4.1310e+00,\n",
      "          7.2719e+00, -7.3624e+00, -5.1253e+00, -1.3731e+01, -1.0443e+01],\n",
      "        [-2.0269e+01, -4.2329e+00,  6.7020e+00, -1.1121e+01,  1.3644e+01,\n",
      "          8.9883e-01, -1.2854e+00,  9.1357e-01, -1.5733e+01,  3.7814e+00],\n",
      "        [-2.6067e+01, -7.3097e+00,  9.0165e-01, -1.1404e+01,  7.1380e+00,\n",
      "          2.5333e+00, -6.5644e+00,  2.4427e+00, -9.4620e+00,  3.9148e+00],\n",
      "        [-1.2293e+01, -3.5528e+00, -7.2164e+00, -7.2673e+00,  1.0208e+01,\n",
      "          3.9206e+00, -1.1112e+01, -1.0740e+01, -1.3082e+01, -2.7931e-04],\n",
      "        [-1.7131e+01, -1.2225e+01,  6.2900e+00, -9.0725e+00,  1.0208e+01,\n",
      "         -2.3726e-01, -1.1959e+01,  1.3484e+00, -1.1643e+01, -8.7895e+00],\n",
      "        [-1.4093e+01,  7.4388e+00,  7.4959e+00, -9.7319e-01,  8.9728e+00,\n",
      "          1.4107e+00, -1.1038e+01, -2.5735e+00, -1.5868e+01, -4.5928e-01],\n",
      "        [-5.9760e+00, -1.7237e+01,  4.1563e+00, -8.5769e+00,  3.4032e+00,\n",
      "          2.3266e+00, -9.8644e+00,  4.9733e-02, -1.3988e+01, -1.4756e+01],\n",
      "        [-6.3785e+00, -8.8935e+00,  2.2370e+00, -7.6280e+00,  8.1930e+00,\n",
      "          9.4295e-01, -4.3436e+00, -6.8266e-01, -1.2235e+01, -7.6836e+00],\n",
      "        [-1.3723e+01, -1.1348e+01, -8.1440e+00, -1.2527e+01,  8.4822e+00,\n",
      "          1.1197e+01, -6.7275e+00, -1.3425e+00, -1.3288e+01, -5.6117e+00],\n",
      "        [-6.9650e+00, -2.0972e+00, -4.3593e+00, -5.2469e-01,  8.9822e+00,\n",
      "          1.0069e+01, -4.3104e+00,  4.5112e+00, -9.7418e+00,  2.8017e+00],\n",
      "        [-1.3512e+01, -6.8405e+00, -1.5850e+00, -8.4165e+00,  6.4513e+00,\n",
      "          1.1522e+01, -3.7373e+00, -8.1132e+00, -1.5804e+01,  5.7144e+00],\n",
      "        [-1.1490e+01, -1.3225e+01, -4.9462e+00, -6.8050e+00,  1.0735e+01,\n",
      "          1.6032e+01,  7.3212e-01, -3.3765e+00, -1.2728e+01, -4.4882e+00],\n",
      "        [-1.0582e+01, -6.0741e+00, -1.0197e+00, -1.0938e+01,  9.7327e+00,\n",
      "          1.0717e+01, -4.7677e+00,  9.7022e-01, -1.4324e+01,  9.1175e-01],\n",
      "        [-8.2223e+00,  3.7109e+00, -6.1077e+00, -2.2994e+01,  9.2217e-01,\n",
      "          3.6554e-01, -5.6606e+00,  9.3614e-02, -2.1594e+01,  7.4613e-01],\n",
      "        [-1.9047e+01, -4.5524e+00, -1.7475e+00, -4.4166e+00,  8.0361e+00,\n",
      "          9.8217e+00, -1.4592e+01,  6.0181e+00, -1.0766e+01, -5.4737e+00],\n",
      "        [-1.4620e+01, -1.5926e+01, -8.3310e+00, -1.0335e+01,  9.2872e+00,\n",
      "          9.1674e+00,  3.1863e+00,  1.4233e+00, -9.8698e+00, -9.2942e+00],\n",
      "        [-1.0752e+01, -3.2540e+00, -4.2094e+00, -1.2630e+01,  3.7573e+00,\n",
      "          8.6653e+00, -8.4401e+00, -1.4369e-01, -1.1382e+01, -1.8156e+00],\n",
      "        [-2.4549e+01, -2.5582e+00,  1.3392e+01, -5.2798e-01,  9.8495e+00,\n",
      "          4.5264e+00, -7.1004e-01, -1.4840e+01, -1.2053e+01,  4.2280e+00],\n",
      "        [-5.2860e+00, -1.5188e+01, -5.1781e+00, -6.0602e+00,  8.5412e+00,\n",
      "          1.7602e+01,  2.6742e+00,  9.6711e+00, -1.5658e+01, -1.0209e+01],\n",
      "        [-1.9035e+01, -1.4263e+01, -8.8003e+00, -1.2395e+01,  3.3200e+00,\n",
      "          9.4681e+00, -2.7118e+00,  1.0146e+01, -1.5172e+01,  4.7555e+00],\n",
      "        [-1.2855e+01, -8.7591e+00, -7.0347e+00, -1.1909e+01,  9.1092e+00,\n",
      "          6.1759e+00, -5.5725e+00,  1.8017e+01, -1.4538e+01, -1.7605e-01],\n",
      "        [-1.0112e+01, -1.2712e+01,  4.7116e+00, -1.4500e+01,  7.9456e+00,\n",
      "          2.1936e+00, -4.4423e+00,  8.7988e+00, -8.5359e+00, -3.3117e+00],\n",
      "        [-5.1374e+00,  5.5618e+00,  4.3001e+00, -1.3600e+01,  1.2851e+01,\n",
      "         -2.9876e+00, -1.1211e+01, -2.1155e+00, -8.3987e+00, -1.8707e+00],\n",
      "        [-1.0928e+01, -1.9518e+00, -6.7339e-01, -6.5732e+00,  4.7768e+00,\n",
      "          9.5713e+00, -8.4579e+00, -1.1276e+00, -1.4109e+01, -1.8405e+00],\n",
      "        [-1.5926e+01, -3.9487e-01,  6.2715e+00, -1.1309e+01,  2.2449e+00,\n",
      "          9.7377e+00, -1.0704e+01,  7.2382e+00, -5.0346e+00, -1.6725e-01],\n",
      "        [-1.7292e+01, -1.0245e+01, -4.4970e-01, -3.3245e+00,  9.8241e+00,\n",
      "          4.0546e+00, -6.3324e+00,  5.5524e+00, -1.2645e+01, -4.0727e+00],\n",
      "        [-1.1328e+01, -5.7767e+00, -9.4800e+00, -1.1201e+01,  1.3863e+01,\n",
      "         -1.4948e+00, -2.8289e-01,  1.7976e+01, -1.6370e+01, -6.9571e+00],\n",
      "        [-2.5451e+01, -5.6835e+00,  1.6143e+00, -6.4210e+00,  8.3741e+00,\n",
      "          9.2356e+00, -9.6885e+00,  1.7204e+01, -1.2567e+01, -3.1486e+00],\n",
      "        [-1.1071e+01,  1.1353e+00, -3.4508e+00, -9.7844e+00,  3.4640e+00,\n",
      "          8.0711e+00, -4.3633e+00,  4.0969e+00, -9.3720e+00, -3.6911e+00],\n",
      "        [-1.5025e+01, -1.3435e+01,  3.8576e+00, -7.1411e+00,  1.8123e+01,\n",
      "          1.9388e+01,  4.2470e+00,  1.7345e+01, -1.3335e+01, -7.0410e+00],\n",
      "        [-7.4834e+00, -1.2680e+01, -6.0049e-02, -8.6039e+00,  6.9117e+00,\n",
      "          6.6916e+00, -6.3263e+00,  2.1433e+00, -1.2289e+01, -5.8728e+00],\n",
      "        [-1.6529e+01, -1.1072e+01, -1.1762e+00, -8.0685e+00, -4.6169e-01,\n",
      "          1.2588e+01, -1.4820e+01, -4.4152e-01, -1.2596e+01,  6.7368e-01],\n",
      "        [-1.5939e+01, -8.7084e+00, -9.3835e-02, -2.4559e+01,  3.6726e+00,\n",
      "          5.8434e+00, -1.0668e+01,  7.0765e+00, -3.4256e+00, -8.5608e+00],\n",
      "        [-1.0395e+01, -1.4222e+01, -1.1438e+01, -1.3465e+01,  4.6814e+00,\n",
      "          8.8263e+00, -9.1221e+00,  8.4567e+00, -1.1003e+01, -1.2654e+01],\n",
      "        [-1.2693e+01, -1.3740e+01, -1.6315e+00, -1.1409e+01,  1.3322e+01,\n",
      "          2.6007e+00, -2.5766e+00, -2.2394e+00, -8.6528e+00,  3.8527e+00],\n",
      "        [-2.0708e+01, -8.6672e+00, -5.2598e+00, -7.7855e+00,  5.0810e+00,\n",
      "          6.5956e+00,  1.3497e+00,  5.5383e+00, -1.2904e+01, -2.3548e+00],\n",
      "        [-1.5728e+01, -3.0700e+00,  5.0795e+00, -1.1626e+01,  2.7732e+00,\n",
      "          2.2636e-01, -5.4613e+00, -9.2486e+00, -1.6826e+01,  2.6308e+00],\n",
      "        [-7.1488e+00,  1.1030e+00,  8.7374e+00, -3.9073e+00,  7.7842e+00,\n",
      "          1.0101e+01,  4.6585e+00,  6.5761e-01, -9.7151e+00, -1.4295e+00],\n",
      "        [-1.5523e+01, -8.6952e+00,  1.0675e+00, -9.2252e+00,  1.3923e+01,\n",
      "          4.0369e+00, -4.6644e+00, -1.2700e+00, -9.8421e+00, -6.5189e+00],\n",
      "        [-1.3942e+01, -6.3126e+00,  3.4327e-01, -1.7962e+01,  6.2198e+00,\n",
      "          6.6579e+00,  2.0864e+00,  5.0462e+00, -1.1404e+01, -5.0103e+00],\n",
      "        [-1.5607e+01,  7.2233e+00,  3.5458e+00, -9.6895e+00,  2.3498e+00,\n",
      "          4.9132e+00,  6.8594e+00,  2.0654e+00, -1.6045e+01,  3.0586e+00],\n",
      "        [-1.3357e+01, -1.3180e+01,  2.3578e-01, -1.4134e+01, -1.7337e+00,\n",
      "          4.7046e+00, -3.5448e+00, -8.3085e+00, -1.6629e+01, -6.6691e+00],\n",
      "        [-9.3423e+00, -6.5762e+00,  2.0465e+00, -9.8291e+00,  1.0567e+01,\n",
      "         -1.9032e+00, -3.0678e+00, -1.6472e+00, -1.0029e+01, -4.6480e+00],\n",
      "        [-1.7953e+01, -9.8711e+00, -7.8711e-01, -2.1927e+01,  4.0168e+00,\n",
      "          9.7242e+00, -1.0420e+01,  6.4911e+00, -1.7338e+01,  2.7761e+00],\n",
      "        [-1.5015e+01, -9.0667e+00,  2.6634e+00, -1.4032e+01,  2.1964e+00,\n",
      "          1.4553e+01, -1.3654e+00,  7.6572e+00, -1.1170e+01, -1.3942e+01],\n",
      "        [-1.9907e+01, -6.8005e+00, -2.0735e+00, -1.5767e+01,  1.3482e+01,\n"
     ]
    },
    {
     "name": "stdout",
     "output_type": "stream",
     "text": [
      "          1.3625e+01,  4.5970e+00,  1.1744e+01, -3.3261e+00, -4.5315e+00]])\n"
     ]
    }
   ],
   "source": [
    "## Solution\n",
    "torch.manual_seed(7) # Set the random seed so things are predictable\n",
    "\n",
    "\n",
    "def activation(x):\n",
    "    return 1/(1+torch.exp(-x))\n",
    "\n",
    "# Flatten the input images\n",
    "inputs = images.view(images.shape[0], -1)\n",
    "\n",
    "# Create parameters\n",
    "### Generate some data\n",
    "# torch.manual_seed(1) # Set the random seed so things are predictable\n",
    "w1 = torch.randn(784, 256)\n",
    "### Generate some data\n",
    "# torch.manual_seed(3) # Set the random seed so things are predictable\n",
    "\n",
    "\n",
    "### Generate some data\n",
    "# torch.manual_seed(2) # Set the random seed so things are predictable\n",
    "w2 = torch.randn(256, 10)\n",
    "### Generate some data\n",
    "# torch.manual_seed(4) # Set the random seed so things are predictable\n",
    "\n",
    "b1 = torch.randn(256)\n",
    "\n",
    "\n",
    "b2 = torch.randn(10)\n",
    "\n",
    "h = activation(torch.mm(inputs, w1) + b1)\n",
    "\n",
    "out = torch.mm(h, w2) + b2\n",
    "\n",
    "print('out_shape:', out.shape)\n",
    "\n",
    "print('out:', out)"
   ]
  },
  {
   "cell_type": "code",
   "execution_count": 7,
   "metadata": {},
   "outputs": [
    {
     "name": "stdout",
     "output_type": "stream",
     "text": [
      "torch.Size([784, 256])\n",
      "tensor([[-0.8201,  0.3956,  0.8989,  ..., -0.8095,  0.0931, -0.3004],\n",
      "        [ 0.0063, -1.5065, -0.6245,  ...,  0.2500, -0.8542,  0.4376],\n",
      "        [ 0.3811,  0.3953, -1.5423,  ...,  0.8410,  0.6489,  0.0831],\n",
      "        ...,\n",
      "        [-0.2211,  2.2698,  0.3598,  ...,  1.1744,  0.1071, -0.5518],\n",
      "        [-0.5600,  0.3535,  0.1987,  ..., -0.3272,  0.7141,  0.3582],\n",
      "        [-0.1653, -1.2431,  0.6112,  ...,  1.0518, -0.8067, -0.7709]])\n"
     ]
    }
   ],
   "source": [
    "print(w1.shape)\n",
    "print(w1)"
   ]
  },
  {
   "cell_type": "code",
   "execution_count": 8,
   "metadata": {},
   "outputs": [
    {
     "name": "stdout",
     "output_type": "stream",
     "text": [
      "torch.Size([256, 10])\n",
      "tensor([[ 0.6339,  1.0345,  0.3033,  ..., -0.1860, -0.6364,  2.1867],\n",
      "        [ 1.3871, -0.3107, -2.7180,  ..., -0.1921, -1.2932, -0.7217],\n",
      "        [-0.8895, -0.3219, -0.0805,  ...,  0.6811, -1.0980, -1.3810],\n",
      "        ...,\n",
      "        [-0.5285,  2.4616, -0.3759,  ..., -1.0795, -0.5645, -1.3539],\n",
      "        [ 0.2632, -2.2103,  0.9946,  ...,  0.0997,  0.6885,  1.9427],\n",
      "        [ 0.4363, -0.9149, -1.5136,  ..., -0.7218, -0.9097, -0.7107]])\n"
     ]
    }
   ],
   "source": [
    "print(w2.shape)\n",
    "print(w2)"
   ]
  },
  {
   "cell_type": "code",
   "execution_count": 9,
   "metadata": {
    "scrolled": true
   },
   "outputs": [
    {
     "name": "stdout",
     "output_type": "stream",
     "text": [
      "torch.Size([256])\n",
      "tensor([ 0.7149,  0.6391, -0.9468,  0.6111,  1.5337,  0.1529,  1.5468, -0.9979,\n",
      "         2.1075, -1.9619,  0.5851, -0.0518, -0.0596, -0.0039,  2.4317, -0.8046,\n",
      "        -0.0613,  0.8964, -0.1711,  0.4709, -0.4805,  0.6235, -0.1567, -0.1102,\n",
      "         1.2652, -1.6166, -0.2357,  0.1173,  1.3401,  1.4215,  0.7395,  0.1019,\n",
      "        -0.9962,  1.0348,  1.7533, -2.3131, -0.0257, -0.5041,  0.8696,  0.3856,\n",
      "         0.4578, -0.8792,  0.8854,  1.1591,  1.6646, -0.2215,  0.9049, -0.1276,\n",
      "        -0.5799, -0.5257,  0.0240,  0.2594, -1.8826,  1.3392,  0.7814,  2.2156,\n",
      "         1.2746, -0.5243, -0.4295, -0.3225, -1.1501,  0.4566,  1.0014, -2.8142,\n",
      "        -0.1465,  0.3128, -0.5625,  0.0347,  0.1021, -0.9091,  0.0979,  0.9576,\n",
      "        -0.2307,  0.5282,  2.5405,  1.4265,  1.4662, -0.9381, -0.3563, -0.2176,\n",
      "        -0.7131,  0.2172, -0.2947, -0.9215, -0.2526, -1.3041, -0.9596,  0.6026,\n",
      "         0.2500,  0.2582, -1.0267,  0.0261, -0.4179,  1.2987,  2.5355, -0.1682,\n",
      "        -0.7441, -0.0480,  0.7085, -1.0430,  1.6970,  0.1162, -0.0150, -1.6518,\n",
      "         0.0034, -0.4086, -2.3391, -0.7113,  1.1904,  0.9898, -1.4300,  0.6581,\n",
      "        -1.6350,  0.7007, -0.0614, -0.0600, -0.4891, -2.4256, -0.0463,  1.2095,\n",
      "        -0.0635, -1.5256, -0.0985, -0.8564,  1.1518, -1.1931,  1.3311,  0.4637,\n",
      "         0.5104,  0.9343,  2.7530,  0.8304, -0.7449,  0.9520, -0.6101,  0.0037,\n",
      "         1.5588,  0.5781,  1.6157,  1.1864, -0.1059,  0.8955,  0.5089, -0.5682,\n",
      "         0.5934, -1.4285,  0.4242,  0.3133,  0.9954, -0.6814,  1.6840,  0.2694,\n",
      "         0.2489,  1.2575, -0.2049, -0.9840,  1.2153,  0.0435,  0.1597,  0.9136,\n",
      "         1.1404,  0.4976,  2.4049, -1.2975, -0.7476,  2.5345,  0.7615,  1.0451,\n",
      "         0.5536,  0.9991,  0.5526, -0.0721, -3.0442, -1.8129, -0.8466, -1.9117,\n",
      "         0.0989,  1.0894,  1.0988, -0.3363,  0.9586,  0.2918,  0.2559,  0.7558,\n",
      "        -0.7602, -1.8358,  0.3545, -0.5371, -0.5341,  1.5675, -0.4118,  1.1028,\n",
      "        -2.1238, -0.5777,  1.0439, -2.7941,  1.3027,  0.8645,  1.2941,  1.1189,\n",
      "         1.1336, -0.7071,  0.8700, -2.1905, -1.1429,  0.7345, -1.0534,  0.1086,\n",
      "        -2.3883,  0.0468,  1.3603,  0.4944, -0.6741,  0.4602, -0.8606,  2.0539,\n",
      "         0.4668,  0.3952, -0.6453,  0.3608, -0.2328, -0.2933, -2.0921,  1.4156,\n",
      "        -1.1043, -0.2244, -1.2447, -1.1257,  1.9774, -0.7801, -0.6585,  0.0824,\n",
      "        -0.0792,  0.0413,  1.5400,  1.7533, -2.0053, -0.5925, -0.9915, -1.4284,\n",
      "        -0.6961,  1.1634, -0.9546,  1.7595, -1.1099, -0.6329, -0.7099, -0.2695,\n",
      "         1.6135,  0.9572, -0.5114,  0.8759, -0.0380, -0.4646, -0.8043,  1.1730])\n"
     ]
    }
   ],
   "source": [
    "print(b1.shape)\n",
    "print(b1)"
   ]
  },
  {
   "cell_type": "code",
   "execution_count": null,
   "metadata": {},
   "outputs": [],
   "source": [
    "print(b2.shape)\n",
    "print(b2)"
   ]
  },
  {
   "cell_type": "code",
   "execution_count": null,
   "metadata": {},
   "outputs": [],
   "source": []
  },
  {
   "cell_type": "markdown",
   "metadata": {},
   "source": [
    "Now we have 10 outputs for our network. We want to pass in an image to our network and get out a probability distribution over the classes that tells us the likely class(es) the image belongs to. Something that looks like this:\n",
    "<img src='assets/image_distribution.png' width=500px>\n",
    "\n",
    "Here we see that the probability for each class is roughly the same. This is representing an untrained network, it hasn't seen any data yet so it just returns a uniform distribution with equal probabilities for each class.\n",
    "\n",
    "To calculate this probability distribution, we often use the [**softmax** function](https://en.wikipedia.org/wiki/Softmax_function). Mathematically this looks like\n",
    "\n",
    "$$\n",
    "\\Large \\sigma(x_i) = \\cfrac{e^{x_i}}{\\sum_k^K{e^{x_k}}}\n",
    "$$\n",
    "\n",
    "What this does is squish each input $x_i$ between 0 and 1 and normalizes the values to give you a proper probability distribution where the probabilites sum up to one.\n",
    "\n",
    "> **Exercise:** Implement a function `softmax` that performs the softmax calculation and returns probability distributions for each example in the batch. Note that you'll need to pay attention to the shapes when doing this. If you have a tensor `a` with shape `(64, 10)` and a tensor `b` with shape `(64,)`, doing `a/b` will give you an error because PyTorch will try to do the division across the columns (called broadcasting) but you'll get a size mismatch. The way to think about this is for each of the 64 examples, you only want to divide by one value, the sum in the denominator. So you need `b` to have a shape of `(64, 1)`. This way PyTorch will divide the 10 values in each row of `a` by the one value in each row of `b`. Pay attention to how you take the sum as well. You'll need to define the `dim` keyword in `torch.sum`. Setting `dim=0` takes the sum across the rows while `dim=1` takes the sum across the columns."
   ]
  },
  {
   "cell_type": "code",
   "execution_count": null,
   "metadata": {},
   "outputs": [],
   "source": [
    "## Solution\n",
    "def softmax(x):\n",
    "    return torch.exp(x)/torch.sum(torch.exp(x), dim=1).view(-1, 1)\n",
    "\n",
    "probabilities = softmax(out)\n",
    "\n",
    "# Does it have the right shape? Should be (64, 10)\n",
    "print(probabilities.shape)\n",
    "# Does it sum to 1?\n",
    "print(probabilities.sum(dim=1))"
   ]
  },
  {
   "cell_type": "markdown",
   "metadata": {},
   "source": [
    "## Building networks with PyTorch\n",
    "\n",
    "PyTorch provides a module `nn` that makes building networks much simpler. Here I'll show you how to build the same one as above with 784 inputs, 256 hidden units, 10 output units and a softmax output."
   ]
  },
  {
   "cell_type": "code",
   "execution_count": null,
   "metadata": {},
   "outputs": [],
   "source": [
    "from torch import nn"
   ]
  },
  {
   "cell_type": "code",
   "execution_count": null,
   "metadata": {},
   "outputs": [],
   "source": [
    "class Network(nn.Module):\n",
    "    def __init__(self):\n",
    "        super().__init__()\n",
    "        \n",
    "        # Inputs to hidden layer linear transformation\n",
    "        self.hidden = nn.Linear(784, 256)\n",
    "        # Output layer, 10 units - one for each digit\n",
    "        self.output = nn.Linear(256, 10)\n",
    "        \n",
    "        # Define sigmoid activation and softmax output \n",
    "        self.sigmoid = nn.Sigmoid()\n",
    "        self.softmax = nn.Softmax(dim=1)\n",
    "        \n",
    "    def forward(self, x):\n",
    "        # Pass the input tensor through each of our operations\n",
    "        x = self.hidden(x)\n",
    "        x = self.sigmoid(x)\n",
    "        x = self.output(x)\n",
    "        x = self.softmax(x)\n",
    "        \n",
    "        return x"
   ]
  },
  {
   "cell_type": "markdown",
   "metadata": {},
   "source": [
    "Let's go through this bit by bit.\n",
    "\n",
    "```python\n",
    "class Network(nn.Module):\n",
    "```\n",
    "\n",
    "Here we're inheriting from `nn.Module`. Combined with `super().__init__()` this creates a class that tracks the architecture and provides a lot of useful methods and attributes. It is mandatory to inherit from `nn.Module` when you're creating a class for your network. The name of the class itself can be anything.\n",
    "\n",
    "```python\n",
    "self.hidden = nn.Linear(784, 256)\n",
    "```\n",
    "\n",
    "This line creates a module for a linear transformation, $x\\mathbf{W} + b$, with 784 inputs and 256 outputs and assigns it to `self.hidden`. The module automatically creates the weight and bias tensors which we'll use in the `forward` method. You can access the weight and bias tensors once the network (`net`) is created with `net.hidden.weight` and `net.hidden.bias`.\n",
    "\n",
    "```python\n",
    "self.output = nn.Linear(256, 10)\n",
    "```\n",
    "\n",
    "Similarly, this creates another linear transformation with 256 inputs and 10 outputs.\n",
    "\n",
    "```python\n",
    "self.sigmoid = nn.Sigmoid()\n",
    "self.softmax = nn.Softmax(dim=1)\n",
    "```\n",
    "\n",
    "Here I defined operations for the sigmoid activation and softmax output. Setting `dim=1` in `nn.Softmax(dim=1)` calculates softmax across the columns.\n",
    "\n",
    "```python\n",
    "def forward(self, x):\n",
    "```\n",
    "\n",
    "PyTorch networks created with `nn.Module` must have a `forward` method defined. It takes in a tensor `x` and passes it through the operations you defined in the `__init__` method.\n",
    "\n",
    "```python\n",
    "x = self.hidden(x)\n",
    "x = self.sigmoid(x)\n",
    "x = self.output(x)\n",
    "x = self.softmax(x)\n",
    "```\n",
    "\n",
    "Here the input tensor `x` is passed through each operation a reassigned to `x`. We can see that the input tensor goes through the hidden layer, then a sigmoid function, then the output layer, and finally the softmax function. It doesn't matter what you name the variables here, as long as the inputs and outputs of the operations match the network architecture you want to build. The order in which you define things in the `__init__` method doesn't matter, but you'll need to sequence the operations correctly in the `forward` method.\n",
    "\n",
    "Now we can create a `Network` object."
   ]
  },
  {
   "cell_type": "code",
   "execution_count": null,
   "metadata": {},
   "outputs": [],
   "source": [
    "# Create the network and look at it's text representation\n",
    "model = Network()\n",
    "model"
   ]
  },
  {
   "cell_type": "markdown",
   "metadata": {},
   "source": [
    "You can define the network somewhat more concisely and clearly using the `torch.nn.functional` module. This is the most common way you'll see networks defined as many operations are simple element-wise functions. We normally import this module as `F`, `import torch.nn.functional as F`."
   ]
  },
  {
   "cell_type": "code",
   "execution_count": null,
   "metadata": {},
   "outputs": [],
   "source": [
    "import torch.nn.functional as F\n",
    "\n",
    "class Network(nn.Module):\n",
    "    def __init__(self):\n",
    "        super().__init__()\n",
    "        # Inputs to hidden layer linear transformation\n",
    "        self.hidden = nn.Linear(784, 256)\n",
    "        # Output layer, 10 units - one for each digit\n",
    "        self.output = nn.Linear(256, 10)\n",
    "        \n",
    "    def forward(self, x):\n",
    "        # Hidden layer with sigmoid activation\n",
    "        x = F.sigmoid(self.hidden(x))\n",
    "        # Output layer with softmax activation\n",
    "        x = F.softmax(self.output(x), dim=1)\n",
    "        \n",
    "        return x"
   ]
  },
  {
   "cell_type": "markdown",
   "metadata": {},
   "source": [
    "### Activation functions\n",
    "\n",
    "So far we've only been looking at the softmax activation, but in general any function can be used as an activation function. The only requirement is that for a network to approximate a non-linear function, the activation functions must be non-linear. Here are a few more examples of common activation functions: Tanh (hyperbolic tangent), and ReLU (rectified linear unit).\n",
    "\n",
    "<img src=\"assets/activation.png\" width=700px>\n",
    "\n",
    "In practice, the ReLU function is used almost exclusively as the activation function for hidden layers."
   ]
  },
  {
   "cell_type": "markdown",
   "metadata": {},
   "source": [
    "### Your Turn to Build a Network\n",
    "\n",
    "<img src=\"assets/mlp_mnist.png\" width=600px>\n",
    "\n",
    "> **Exercise:** Create a network with 784 input units, a hidden layer with 128 units and a ReLU activation, then a hidden layer with 64 units and a ReLU activation, and finally an output layer with a softmax activation as shown above. You can use a ReLU activation with the `nn.ReLU` module or `F.relu` function."
   ]
  },
  {
   "cell_type": "code",
   "execution_count": null,
   "metadata": {
    "scrolled": true
   },
   "outputs": [],
   "source": [
    "## Solution\n",
    "\n",
    "class Network(nn.Module):\n",
    "    def __init__(self):\n",
    "        super().__init__()\n",
    "        # Defining the layers, 128, 64, 10 units each\n",
    "        self.fc1 = nn.Linear(784, 128)\n",
    "        self.fc2 = nn.Linear(128, 64)\n",
    "        # Output layer, 10 units - one for each digit\n",
    "        self.fc3 = nn.Linear(64, 10)\n",
    "        \n",
    "    def forward(self, x):\n",
    "        ''' Forward pass through the network, returns the output logits '''\n",
    "        \n",
    "        x = self.fc1(x)\n",
    "        x = F.relu(x)\n",
    "        x = self.fc2(x)\n",
    "        x = F.relu(x)\n",
    "        x = self.fc3(x)\n",
    "        x = F.softmax(x, dim=1)\n",
    "        \n",
    "        return x\n",
    "\n",
    "model = Network()\n",
    "model"
   ]
  },
  {
   "cell_type": "markdown",
   "metadata": {},
   "source": [
    "### Initializing weights and biases\n",
    "\n",
    "The weights and such are automatically initialized for you, but it's possible to customize how they are initialized. The weights and biases are tensors attached to the layer you defined, you can get them with `model.fc1.weight` for instance."
   ]
  },
  {
   "cell_type": "code",
   "execution_count": null,
   "metadata": {},
   "outputs": [],
   "source": [
    "print(model.fc1.weight)\n",
    "print(model.fc1.bias)"
   ]
  },
  {
   "cell_type": "markdown",
   "metadata": {},
   "source": [
    "For custom initialization, we want to modify these tensors in place. These are actually autograd *Variables*, so we need to get back the actual tensors with `model.fc1.weight.data`. Once we have the tensors, we can fill them with zeros (for biases) or random normal values."
   ]
  },
  {
   "cell_type": "code",
   "execution_count": null,
   "metadata": {},
   "outputs": [],
   "source": [
    "# Set biases to all zeros\n",
    "model.fc1.bias.data.fill_(0)"
   ]
  },
  {
   "cell_type": "code",
   "execution_count": null,
   "metadata": {},
   "outputs": [],
   "source": [
    "# sample from random normal with standard dev = 0.01\n",
    "model.fc1.weight.data.normal_(std=0.01)"
   ]
  },
  {
   "cell_type": "markdown",
   "metadata": {},
   "source": [
    "### Forward pass\n",
    "\n",
    "Now that we have a network, let's see what happens when we pass in an image."
   ]
  },
  {
   "cell_type": "code",
   "execution_count": null,
   "metadata": {},
   "outputs": [],
   "source": [
    "# Grab some data \n",
    "dataiter = iter(trainloader)\n",
    "images, labels = dataiter.next()\n",
    "\n",
    "# Resize images into a 1D vector, new shape is (batch size, color channels, image pixels) \n",
    "images.resize_(64, 1, 784)\n",
    "# or images.resize_(images.shape[0], 1, 784) to automatically get batch size\n",
    "\n",
    "# Forward pass through the network\n",
    "img_idx = 0\n",
    "ps = model.forward(images[img_idx,:])\n",
    "\n",
    "img = images[img_idx]\n",
    "helper.view_classify(img.view(1, 28, 28), ps)"
   ]
  },
  {
   "cell_type": "markdown",
   "metadata": {},
   "source": [
    "As you can see above, our network has basically no idea what this digit is. It's because we haven't trained it yet, all the weights are random!\n",
    "\n",
    "### Using `nn.Sequential`\n",
    "\n",
    "PyTorch provides a convenient way to build networks like this where a tensor is passed sequentially through operations, `nn.Sequential` ([documentation](https://pytorch.org/docs/master/nn.html#torch.nn.Sequential)). Using this to build the equivalent network:"
   ]
  },
  {
   "cell_type": "code",
   "execution_count": null,
   "metadata": {},
   "outputs": [],
   "source": [
    "# Hyperparameters for our network\n",
    "input_size = 784\n",
    "hidden_sizes = [128, 64]\n",
    "output_size = 10\n",
    "\n",
    "# Build a feed-forward network\n",
    "model = nn.Sequential(nn.Linear(input_size, hidden_sizes[0]),\n",
    "                      nn.ReLU(),\n",
    "                      nn.Linear(hidden_sizes[0], hidden_sizes[1]),\n",
    "                      nn.ReLU(),\n",
    "                      nn.Linear(hidden_sizes[1], output_size),\n",
    "                      nn.Softmax(dim=1))\n",
    "print(model)\n",
    "\n",
    "# Forward pass through the network and display output\n",
    "images, labels = next(iter(trainloader))\n",
    "images.resize_(images.shape[0], 1, 784)\n",
    "ps = model.forward(images[0,:])\n",
    "helper.view_classify(images[0].view(1, 28, 28), ps)"
   ]
  },
  {
   "cell_type": "markdown",
   "metadata": {},
   "source": [
    "The operations are availble by passing in the appropriate index. For example, if you want to get first Linear operation and look at the weights, you'd use `model[0]`."
   ]
  },
  {
   "cell_type": "code",
   "execution_count": null,
   "metadata": {},
   "outputs": [],
   "source": [
    "print(model[0])\n",
    "model[0].weight"
   ]
  },
  {
   "cell_type": "markdown",
   "metadata": {},
   "source": [
    "You can also pass in an `OrderedDict` to name the individual layers and operations, instead of using incremental integers. Note that dictionary keys must be unique, so _each operation must have a different name_."
   ]
  },
  {
   "cell_type": "code",
   "execution_count": null,
   "metadata": {},
   "outputs": [],
   "source": [
    "from collections import OrderedDict\n",
    "model = nn.Sequential(OrderedDict([\n",
    "                      ('fc1', nn.Linear(input_size, hidden_sizes[0])),\n",
    "                      ('relu1', nn.ReLU()),\n",
    "                      ('fc2', nn.Linear(hidden_sizes[0], hidden_sizes[1])),\n",
    "                      ('relu2', nn.ReLU()),\n",
    "                      ('output', nn.Linear(hidden_sizes[1], output_size)),\n",
    "                      ('softmax', nn.Softmax(dim=1))]))\n",
    "model"
   ]
  },
  {
   "cell_type": "markdown",
   "metadata": {},
   "source": [
    "Now you can access layers either by integer or the name"
   ]
  },
  {
   "cell_type": "code",
   "execution_count": null,
   "metadata": {},
   "outputs": [],
   "source": [
    "print(model[0])\n",
    "print(model.fc1)"
   ]
  },
  {
   "cell_type": "markdown",
   "metadata": {},
   "source": [
    "In the next notebook, we'll see how we can train a neural network to accuractly predict the numbers appearing in the MNIST images."
   ]
  }
 ],
 "metadata": {
  "kernelspec": {
   "display_name": "Python 3",
   "language": "python",
   "name": "python3"
  },
  "language_info": {
   "codemirror_mode": {
    "name": "ipython",
    "version": 3
   },
   "file_extension": ".py",
   "mimetype": "text/x-python",
   "name": "python",
   "nbconvert_exporter": "python",
   "pygments_lexer": "ipython3",
   "version": "3.7.3"
  },
  "varInspector": {
   "cols": {
    "lenName": 16,
    "lenType": 16,
    "lenVar": 40
   },
   "kernels_config": {
    "python": {
     "delete_cmd_postfix": "",
     "delete_cmd_prefix": "del ",
     "library": "var_list.py",
     "varRefreshCmd": "print(var_dic_list())"
    },
    "r": {
     "delete_cmd_postfix": ") ",
     "delete_cmd_prefix": "rm(",
     "library": "var_list.r",
     "varRefreshCmd": "cat(var_dic_list()) "
    }
   },
   "types_to_exclude": [
    "module",
    "function",
    "builtin_function_or_method",
    "instance",
    "_Feature"
   ],
   "window_display": false
  }
 },
 "nbformat": 4,
 "nbformat_minor": 2
}
